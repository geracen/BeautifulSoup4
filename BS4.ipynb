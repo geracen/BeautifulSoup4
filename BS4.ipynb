{
 "cells": [
  {
   "cell_type": "code",
   "execution_count": 6,
   "metadata": {
    "collapsed": false
   },
   "outputs": [],
   "source": [
    "import bs4\n",
    "import requests"
   ]
  },
  {
   "cell_type": "code",
   "execution_count": 9,
   "metadata": {
    "collapsed": false
   },
   "outputs": [],
   "source": [
    "r=requests.get(\"https://www.experfy.com\")\n",
    "data=r.text"
   ]
  },
  {
   "cell_type": "code",
   "execution_count": 10,
   "metadata": {
    "collapsed": false
   },
   "outputs": [
    {
     "data": {
      "text/plain": [
       "'<!DOCTYPE html>\\n<html>\\n<head>\\n<title>Big Data Consulting | Analytics Consulting | Big Data Jobs | Data Science Jobs | BI Developer</title>\\n<meta property=\"og:url\" content=\"http://www.experfy.com/\" />\\n<meta property=\"og:title\" content=\"Big Data Consulting | Analytics Consulting | Big Data Jobs | Data Science Jobs | BI Developer\" />\\n<meta property=\"og:type\" content=\"website\" />\\n<link rel=\"stylesheet\" media=\"all\" href=\"https://www.experfy.com/assets/homeapp-0002b7a08b1621eee7990e5402b776afc4a3f9ad4090b8239f07246a7cafd02c.css\" data-turbolinks-track=\"true\" />\\n<title>Experfy</title>\\n<link rel=\"shortcut icon\" type=\"image/x-icon\" href=\"https://www.experfy.com/assets/favicon-ccd0953c05df42d64f71a19482725e2e46164b7437c1b826fe305de24cee3dc7.ico\" />\\n<!-- Google Tag Manager -->\\n<script>(function(w,d,s,l,i){w[l]=w[l]||[];w[l].push({\\'gtm.start\\':\\nnew Date().getTime(),event:\\'gtm.js\\'});var f=d.getElementsByTagName(s)[0],\\nj=d.createElement(s),dl=l!=\\'dataLayer\\'?\\'&l=\\'+l:\\'\\';j.async=true;j.src=\\n\\'https://www.googletagmanager.com/gtm.js?id=\\'+i+dl;f.parentNode.insertBefore(j,f);\\n})(window,document,\\'script\\',\\'dataLayer\\',\\'GTM-TTTRFW\\');</script>\\n<!-- End Google Tag Manager -->\\n\\n<meta content=\\'Experfy\\' property=\\'og:title\\'>\\n<meta content=\\'http://www.experfy.com/\\' property=\\'og:url\\'>\\n<meta content=\\'IE=edge,chrome=1\\' http-equiv=\\'X-UA-Compatible\\'>\\n<script src=\"https://js.stripe.com/v2/\"></script>\\n<meta name=\"stripe-key\" content=\"pk_live_l1PLbZrbTjAqkQBGbfeJ2MSx\" />\\n<script type=\"text/javascript\" src=\"//www.googleadservices.com/pagead/conversion_async.js\"></script>\\n<script src=\"https://www.experfy.com/assets/application-fb7e1bdfbb40c6dbca8f339d42909c8958b68c89127e64792c8e51ad06ebfbb9.js\" data-turbolinks-track=\"true\"></script>\\n<script src=\\'https://s3.amazonaws.com/assets.freshdesk.com/widget/freshwidget.js\\' type=\\'text/javascript\\'></script>\\n<script src=\\'https://apis.google.com/js/client.js\\' type=\\'text/javascript\\'></script>\\n<meta name=\"csrf-param\" content=\"authenticity_token\" />\\n<meta name=\"csrf-token\" content=\"oGB8TVzv57ExvKNg2MTMCdM3lb9lKBsx247EfEKeNo9CjpcF9AoTqSBXUzuq4ZSOQsGngYHKj6x82Kl5xOQhdw==\" />\\n<!--[if lte IE 9]>\\n<script src=\"https://www.experfy.com/assets/html5shiv-0a64024d5030a63b60995443a41077f93c772277c666ee4a1d1b7ee00f679db0.js\"></script>\\n<script src=\"https://www.experfy.com/assets/respond-b3086c52974fabcb4ae170a6b4fba3d91bf115d1387508d267ad752e80381999.js\"></script>\\n<![endif]-->\\n<script>\\n  (function(f,b){if(!b.__SV){var a,e,i,g;window.mixpanel=b;b._i=[];b.init=function(a,e,d){function f(b,h){var a=h.split(\".\");2==a.length&&(b=b[a[0]],h=a[1]);b[h]=function(){b.push([h].concat(Array.prototype.slice.call(arguments,0)))}}var c=b;\"undefined\"!==typeof d?c=b[d]=[]:d=\"mixpanel\";c.people=c.people||[];c.toString=function(b){var a=\"mixpanel\";\"mixpanel\"!==d&&(a+=\".\"+d);b||(a+=\" (stub)\");return a};c.people.toString=function(){return c.toString(1)+\".people (stub)\"};i=\"disable track track_pageview track_links track_forms register register_once alias unregister identify name_tag set_config people.set people.set_once people.increment people.append people.union people.track_charge people.clear_charges people.delete_user\".split(\" \");\\n  for(g=0;g<i.length;g++)f(c,i[g]);b._i.push([a,e,d])};b.__SV=1.2;a=f.createElement(\"script\");a.type=\"text/javascript\";a.async=!0;a.src=\"undefined\"!==typeof MIXPANEL_CUSTOM_LIB_URL?MIXPANEL_CUSTOM_LIB_URL:\"//cdn.mxpnl.com/libs/mixpanel-2-latest.min.js\";e=f.getElementsByTagName(\"script\")[0];e.parentNode.insertBefore(a,e)}})(document,window.mixpanel||[]);\\n  mixpanel.init(\"6088fbe0d439697b9873f03d8e5efa06\");\\n</script>\\n<script>\\n  (function(i,s,o,g,r,a,m){i[\\'GoogleAnalyticsObject\\']=r;i[r]=i[r]||function(){\\n  (i[r].q=i[r].q||[]).push(arguments)},i[r].l=1*new Date();a=s.createElement(o),\\n  m=s.getElementsByTagName(o)[0];a.async=1;a.src=g;m.parentNode.insertBefore(a,m)\\n  })(window,document,\\'script\\',\\'//www.google-analytics.com/analytics.js\\',\\'ga\\');\\n  \\n  ga(\\'create\\', \\'UA-46693092-1\\', \\'www.experfy.com\\',{\\'userId\\': $(\"meta[name=ga_id_track]\").attr(\\'content\\')});\\n  ga(\\'require\\', \\'displayfeatures\\');\\n</script>\\n\\n<meta content=\\'width=device-width, initial-scale=1\\' name=\\'viewport\\'>\\n</head>\\n<body>\\n<script>\\nga(\\'send\\', \\'pageview\\', {\\'page\\': window.location.pathname});\\n</script>\\n<noscript>\\n<iframe height=\\'0\\' src=\\'//www.googletagmanager.com/ns.html?id=GTM-N3D2LL\\' style=\\'display:none;visibility:hidden\\' width=\\'0\\'></iframe>\\n</noscript>\\n<script>\\n  (function(w,d,s,l,i){w[l]=w[l]||[];w[l].push({\\'gtm.start\\':\\n  new Date().getTime(),event:\\'gtm.js\\'});var f=d.getElementsByTagName(s)[0],\\n  j=d.createElement(s),dl=l!=\\'dataLayer\\'?\\'&l=\\'+l:\\'\\';j.async=true;j.src=\\n  \\'//www.googletagmanager.com/gtm.js?id=\\'+i+dl;f.parentNode.insertBefore(j,f);\\n  })(window,document,\\'script\\',\\'dataLayer\\',\\'GTM-N3D2LL\\');\\n</script>\\n<div class=\\'page-wrapper\\'>\\n<div class=\\'content wf\\'>\\n<nav class=\\'navbar navbar-default navbar-fixed-top\\'>\\n<div class=\\'container-fluid\\'>\\n<div class=\\'navbar-header\\'>\\n<button class=\\'navbar-toggle\\' data-target=\\'#navbar-collapse\\' data-toggle=\\'collapse\\' type=\\'button\\'>\\n<span class=\\'sr-only\\'>Toggle navigation</span>\\n<span class=\\'icon-bar\\'></span>\\n<span class=\\'icon-bar\\'></span>\\n<span class=\\'icon-bar\\'></span>\\n</button>\\n<a class=\\'navbar-brand\\' data-no-turbolink href=\\'/\\'>\\n<img src=\"https://www.experfy.com/assets/logo_navbar-87f75515ac3e48fdcc77b82a8794120a2c9d629770c27c0e76e966221ee0b7f4.png\" alt=\"Logo navbar\" />\\n</a>\\n</div>\\n<div class=\\'collapse navbar-collapse\\' id=\\'navbar-collapse\\'>\\n<ul class=\\'nav navbar-nav\\'>\\n<li class=\\'dropdown nav-branch\\'>\\n<a aria-expanded=\\'false\\' aria-haspopup=\\'true\\' class=\\'dropdown-toggle\\' data-toggle=\\'dropdown\\' href=\\'#\\' role=\\'button\\'>\\n<span class=\\'caret\\'></span>\\n</a>\\n<ul class=\\'dropdown-menu\\'>\\n<li>\\n<a href=\\'/projects\\'>Projects</a>\\n</li>\\n<li>\\n<a href=\\'/training\\'>Training</a>\\n</li>\\n<li>\\n<a class=\"dropdown-item\" href=\"/channels\">Channels</a>\\n\\n</li>\\n<li>\\n<a href=\\'https://www.experfy.com/forum\\'>Forum</a>\\n</li>\\n<li>\\n<a href=\\'/blog\\'>Blog</a>\\n</li>\\n<li>\\n<a href=\\'/recruit\\'>Recruit</a>\\n</li>\\n</ul>\\n</li>\\n<li class=\\'dropdown\\'>\\n<a aria-expanded=\\'false\\' aria-haspopup=\\'true\\' class=\\'dropdown-toggle\\' data-toggle=\\'dropdown\\' href=\\'#\\' role=\\'button\\'>\\nConsulting\\n<span class=\\'caret\\'></span>\\n</a>\\n<ul class=\\'dropdown-menu\\'>\\n<li>\\n<a href=\\'/short-term-projects/?anchor=new#/new\\'>Post a Project</a>\\n</li>\\n<li>\\n<a href=\\'/projects/category\\'>Browse Projects</a>\\n</li>\\n<li>\\n<a href=\\'/howitworks#providers\\'>Become a Consultant</a>\\n</li>\\n</ul>\\n</li>\\n<li class=\\'dropdown\\'>\\n<a aria-expanded=\\'false\\' aria-haspopup=\\'true\\' class=\\'dropdown-toggle\\' data-toggle=\\'dropdown\\' href=\\'#\\' role=\\'button\\'>\\nTraining\\n<span class=\\'caret\\'></span>\\n</a>\\n<ul class=\\'dropdown-menu\\'>\\n<li>\\n<a href=\\'/training/courses\\'>Browse Courses</a>\\n</li>\\n<li>\\n<a href=\\'/training/instructors\\'>Become an Instructor</a>\\n</li>\\n<li>\\n<a href=\\'/training#learning-track\\'>Learning Tracks</a>\\n</li>\\n<li>\\n<a href=\\'/training/business\\'>Corporate Training</a>\\n</li>\\n</ul>\\n</li>\\n<li>\\n<a class=\\'white-text\\' href=\\'/blog\\'>\\nBlog\\n</a>\\n</li>\\n</ul>\\n<ul class=\\'nav navbar-nav navbar-right\\'>\\n<li>\\n<a data-target=\\'#sign_up_modal\\' data-toggle=\\'modal\\'>\\nSign Up\\n</a>\\n</li>\\n<li>\\n<a data-target=\\'#login_modal\\' data-toggle=\\'modal\\'>\\nLogin\\n</a>\\n</li>\\n<li class=\\'social-networks\\'>\\n<a href=\\'https://www.linkedin.com/company/3513709\\' target=\\'_blank\\'>\\n<img width=\"20\" src=\"https://www.experfy.com/assets/in-1dc799cdc0a127e7a9b81a1db0d387fab2ec6d2fc0aa0ed0133db30e10704731.png\" alt=\"In\" />\\n</a>\\n<a href=\\'https://www.facebook.com/experfy\\' target=\\'_blank\\'>\\n<img width=\"20\" src=\"https://www.experfy.com/assets/facebook-8f7420b69e52cdfa3ad0c0a259952256b08943f7fbf22a99735e7bd3639a4920.png\" alt=\"Facebook\" />\\n</a>\\n<a href=\\'https://twitter.com/experfy\\' target=\\'_blank\\'>\\n<img width=\"20\" src=\"https://www.experfy.com/assets/twitter-98b01ad123221e0e5a596dae5763c06c917201487485178dacaca0345503cd8b.png\" alt=\"Twitter\" />\\n</a>\\n</li>\\n</ul>\\n</div>\\n</div>\\n</nav>\\n\\n<!-- = render \"shared/navigation_bar_responsive\" -->\\n<div id=\\'nav-error\\'>\\n<div class=\\'event-messages\\'>\\n<div class=\\'alert alert-dismissable alert-success center hidden\\'>\\n<div class=\\'container\\'>\\n<button aria-hidden=\\'true\\' class=\\'close\\' data-dismiss=\\'alert\\' type=\\'button\\'>×</button>\\n\\n</div>\\n</div>\\n<div class=\\'alert alert-info center alert-dismissable hidden\\'></div>\\n<div class=\\'alert alert-box alert-dismissable alert-warning center hidden\\'>\\n<div class=\\'container\\'>\\n<button aria-hidden=\\'true\\' class=\\'close\\' data-dismiss=\\'alert\\' type=\\'button\\'>×</button>\\n\\n</div>\\n</div>\\n<div class=\\'alert alert-danger alert-dismissable hidden center\\'></div>\\n</div>\\n\\n</div>\\n<div id=\\'newestHomepage\\'></div>\\n<header class=\\'home-banner\\'>\\n<div class=\\'home-banner-wing home-banner-wing-left home-banner-block\\'>\\n<div class=\\'home-banner-block-background\\'></div>\\n<div class=\\'home-banner-block-content home-banner-wing-block\\'>\\n<a class=\\'home-banner-block-link ga-track-event\\' data-gae-action=\\'Project Homepage\\' data-gae-category=\\'Project\\' data-gae-label=\\'from homepage\\' data-no-turbolink href=\\'/projects\\'>\\n<div class=\\'home-banner-icon home-banner-icon-left\\'></div>\\n<div class=\\'home-banner-body\\'>\\n<h2>\\nConsulting\\n<span>Marketplace</span>\\n</h2>\\n<p>Hire elite experts for your Big Data, Analytics, IoT, Software & Market Research projects. Thousands of professionals are here to help you!</p>\\n</div>\\n<div class=\\'home-banner-action\\'>\\n<div class=\\'btn btn-primary btn-md btn-mdb-arrow\\'>\\n<div class=\\'btn-arrow btn-arrow-right\\'>\\n<span class=\\'btn-label\\'>Get Started</span>\\n<span class=\\'btn-arrow-icon\\'></span>\\n</div>\\n</div>\\n</div>\\n</a>\\n</div>\\n</div>\\n<div class=\\'home-banner-center home-banner-block\\'>\\n<div class=\\'home-banner-block-background\\'></div>\\n<div class=\\'home-banner-block-content\\'>\\n<a class=\\'ga-track-event\\' data-gae-action=\\'Training Homepage\\' data-gae-category=\\'Training\\' data-gae-label=\\'from homepage\\' href=\\'/training\\'>\\n<div class=\\'home-banner-icon home-banner-icon-center\\'></div>\\n<div class=\\'home-banner-body\\'>\\n<h2>\\nTraining\\n<span>Platform</span>\\n</h2>\\n<p>Online and Instructor-led training developed by industry thought leaders and Experfy in Harvard Innovation Lab</p>\\n</div>\\n<div class=\\'home-banner-action\\'>\\n<div class=\\'btn btn-nonary btn-md btn-mdb-arrow\\'>\\n<div class=\\'btn-arrow btn-arrow-right\\'>\\n<span class=\\'btn-label\\'>Get Started</span>\\n<span class=\\'btn-arrow-icon\\'></span>\\n</div>\\n</div>\\n</div>\\n</a>\\n</div>\\n</div>\\n<div class=\\'home-banner-wing home-banner-wing-right home-banner-block home-banner-channel\\'>\\n<div class=\\'home-banner-block-background\\'></div>\\n<div class=\\'home-banner-block-content home-banner-wing-block\\'>\\n<a class=\\'ga-track-event\\' data-gae-action=\\'Channel Homepage\\' data-gae-category=\\'Channel\\' data-gae-label=\\'from homepage\\' href=\\'/channels\\'>\\n<div class=\\'home-banner-icon home-banner-icon-right-2\\'></div>\\n<div class=\\'home-banner-body\\'>\\n<h2>\\nChannels\\n</h2>\\n<p>\\nCurate highly specialized talent pools in your own marketplace\\n</p>\\n<p>\\nGenerate leads for your products and services\\n</p>\\n<p>\\nEducate prospects, clients and partners through online training\\n</p>\\n</div>\\n<div class=\\'home-banner-action\\'>\\n<div class=\\'btn btn-octonary btn-md btn-mdb-arrow\\'>\\n<div class=\\'btn-arrow btn-arrow-right\\'>\\n<span class=\\'btn-label\\'>Get Started</span>\\n<span class=\\'btn-arrow-icon\\'></span>\\n</div>\\n</div>\\n</div>\\n</a>\\n</div>\\n</div>\\n\\n</header>\\n<section class=\\'home-intro\\'>\\n<div class=\\'home-content-intro\\'>\\nExperfy is an intellectual powerhouse where elite data and tech professionals are combining consulting and teaching to reinvent your company\\'s future and advance your career. We help you craft your project and within hours you receive competitive bids that provide 10x the savings over traditional consulting firms. From product roadmaps, prototypes and data integration&#8212;to algorithms, software apps & dashboards&#8212;we handle your project end-to-end.\\n</div>\\n\\n</section>\\n<section class=\\'home-marketplace\\'>\\n<div class=\\'marketplace-features\\'>\\n<h2>Marketplace</h2>\\n<div class=\\'marketplace-feature-list\\'>\\n<div class=\\'marketplace-feature\\'>\\n<div class=\\'marketplace-feature-header\\'>\\n<div class=\\'marketplace-feature-number\\'>\\n<div class=\\'marketplace-feature-number-box\\'>\\n1\\n</div>\\n</div>\\n<div class=\\'marketplace-feature-title\\'>\\nWe Help You Define Your Project\\n</div>\\n</div>\\n<div class=\\'marketplace-feature-body\\'>\\nTell us about your project goals and deliverables or the kind of experts you need. Free consultation is available.\\n</div>\\n</div>\\n<div class=\\'marketplace-feature\\'>\\n<div class=\\'marketplace-feature-header\\'>\\n<div class=\\'marketplace-feature-number\\'>\\n<div class=\\'marketplace-feature-number-box\\'>\\n2\\n</div>\\n</div>\\n<div class=\\'marketplace-feature-title\\'>\\nSolicit Bids and Select Your Expert\\n</div>\\n</div>\\n<div class=\\'marketplace-feature-body\\'>\\nOur Platform solicits bids and you will start receiving proposals from pre-vetted experts in no time.\\n</div>\\n</div>\\n<div class=\\'marketplace-feature\\'>\\n<div class=\\'marketplace-feature-header\\'>\\n<div class=\\'marketplace-feature-number\\'>\\n<div class=\\'marketplace-feature-number-box\\'>\\n3\\n</div>\\n</div>\\n<div class=\\'marketplace-feature-title\\'>\\nManage and Collaborate\\n</div>\\n</div>\\n<div class=\\'marketplace-feature-body\\'>\\nUpload your contracts, track milestones and timesheets, manage project teams, process payments, and leave feedback.\\n</div>\\n</div>\\n</div>\\n</div>\\n<div class=\\'marketplace-items\\'>\\n<div class=\\'marketplace-items-container\\'>\\n<ul class=\\'marketplace-tabs nav nav-tabs\\' role=\\'tablist\\'>\\n<li class=\\'active\\' role=\\'presentation\\'>\\n<a aria-controls=\\'practice_area\\' data-toggle=\\'tab\\' href=\\'#practice_area\\' role=\\'tab\\'>\\nBy Practice Area\\n</a>\\n</li>\\n<li role=\\'presentation\\'>\\n<a aria-controls=\\'technology\\' data-toggle=\\'tab\\' href=\\'#technology\\' role=\\'tab\\'>\\nBy Technology\\n</a>\\n</li>\\n</ul>\\n<div class=\\'tab-content\\'>\\n<div class=\\'marketplace-pane tab-pane active\\' id=\\'practice_area\\' role=\\'tabpanel\\'>\\n<div class=\\'tab-pane-block\\'>\\n<ul class=\\'marketplace-items-tabs nav nav-tabs\\'>\\n<li class=\\'active\\'>\\n<a aria-controls=\\'Customer Analytics\\' data-toggle=\\'tab\\' href=\\'#customer_analytics\\' role=\\'tab\\'>\\n<span class=\\'marketplace-item-icon\\'>\\n<img src=\"https://www.experfy.com/assets/practice_area_icons/pa_icon_1-3b08be280a8585e9c1c01ea63c2131884048c687da3d69f6e58fb7d050483f46.png\" alt=\"Pa icon 1\" />\\n<!-- %img{ src: asset_path(\"images/pa_icon_\" + pa.id.to_s + \".png\") } -->\\n</span>\\nCustomer Analytics\\n</a>\\n</li>\\n<li>\\n<a aria-controls=\\'Marketing Analytics\\' data-toggle=\\'tab\\' href=\\'#marketing_analytics\\' role=\\'tab\\'>\\n<span class=\\'marketplace-item-icon\\'>\\n<img src=\"https://www.experfy.com/assets/practice_area_icons/pa_icon_2-1d56f603970aba1406e2b4021083b1a6839e6d474a0f974a00735e5274657cfb.png\" alt=\"Pa icon 2\" />\\n<!-- %img{ src: asset_path(\"images/pa_icon_\" + pa.id.to_s + \".png\") } -->\\n</span>\\nMarketing Analytics\\n</a>\\n</li>\\n<li>\\n<a aria-controls=\\'Market Research\\' data-toggle=\\'tab\\' href=\\'#market_research\\' role=\\'tab\\'>\\n<span class=\\'marketplace-item-icon\\'>\\n<img src=\"https://www.experfy.com/assets/practice_area_icons/pa_icon_3-bb2b0f7976f330f7a65e7dc090820f32d70c9a60e6721ceb9145497646d4d58f.png\" alt=\"Pa icon 3\" />\\n<!-- %img{ src: asset_path(\"images/pa_icon_\" + pa.id.to_s + \".png\") } -->\\n</span>\\nMarket Research\\n</a>\\n</li>\\n<li>\\n<a aria-controls=\\'Web Analytics\\' data-toggle=\\'tab\\' href=\\'#web_analytics\\' role=\\'tab\\'>\\n<span class=\\'marketplace-item-icon\\'>\\n<img src=\"https://www.experfy.com/assets/practice_area_icons/pa_icon_4-567d8fcfed4a482554b4866ba25ca2f3d8c7d0d96a22df3404c80e24850efa21.png\" alt=\"Pa icon 4\" />\\n<!-- %img{ src: asset_path(\"images/pa_icon_\" + pa.id.to_s + \".png\") } -->\\n</span>\\nWeb Analytics\\n</a>\\n</li>\\n<li>\\n<a aria-controls=\\'Social Media &amp; Text Analytics\\' data-toggle=\\'tab\\' href=\\'#social_media___text_analytics\\' role=\\'tab\\'>\\n<span class=\\'marketplace-item-icon\\'>\\n<img src=\"https://www.experfy.com/assets/practice_area_icons/pa_icon_5-4a4fee74fa70660e889b648e85bab6b0f192cbef804e31d0e664a55e77c20727.png\" alt=\"Pa icon 5\" />\\n<!-- %img{ src: asset_path(\"images/pa_icon_\" + pa.id.to_s + \".png\") } -->\\n</span>\\nSocial Media &amp; Text Analytics\\n</a>\\n</li>\\n<li>\\n<a aria-controls=\\'Pricing &amp; Sales Analytics\\' data-toggle=\\'tab\\' href=\\'#pricing___sales_analytics\\' role=\\'tab\\'>\\n<span class=\\'marketplace-item-icon\\'>\\n<img src=\"https://www.experfy.com/assets/practice_area_icons/pa_icon_6-a8dcfeb0af11afe7e5f21beff1fc91b7f27691c3e9c46b21592988c1aaf1ce56.png\" alt=\"Pa icon 6\" />\\n<!-- %img{ src: asset_path(\"images/pa_icon_\" + pa.id.to_s + \".png\") } -->\\n</span>\\nPricing &amp; Sales Analytics\\n</a>\\n</li>\\n<li>\\n<a aria-controls=\\'Operations\\' data-toggle=\\'tab\\' href=\\'#operations\\' role=\\'tab\\'>\\n<span class=\\'marketplace-item-icon\\'>\\n<img src=\"https://www.experfy.com/assets/practice_area_icons/pa_icon_7-76a811edb2c0f29b11a6eb86b73e6fac246f20a6e852409c0173443151c276cc.png\" alt=\"Pa icon 7\" />\\n<!-- %img{ src: asset_path(\"images/pa_icon_\" + pa.id.to_s + \".png\") } -->\\n</span>\\nOperations\\n</a>\\n</li>\\n<li>\\n<a aria-controls=\\'Fraud &amp; Risk\\' data-toggle=\\'tab\\' href=\\'#fraud___risk\\' role=\\'tab\\'>\\n<span class=\\'marketplace-item-icon\\'>\\n<img src=\"https://www.experfy.com/assets/practice_area_icons/pa_icon_8-baa0b37981ba32c0fe44dc1a940d95024df285127bbf6c1969ed074dbb7c7387.png\" alt=\"Pa icon 8\" />\\n<!-- %img{ src: asset_path(\"images/pa_icon_\" + pa.id.to_s + \".png\") } -->\\n</span>\\nFraud &amp; Risk\\n</a>\\n</li>\\n<li>\\n<a aria-controls=\\'Internet of Things\\' data-toggle=\\'tab\\' href=\\'#internet_of_things\\' role=\\'tab\\'>\\n<span class=\\'marketplace-item-icon\\'>\\n<img src=\"https://www.experfy.com/assets/practice_area_icons/pa_icon_9-7b3aebcdf15b2d25022de3b05ab0b3c6b8f6b61a387039f589485c4b7a5ba361.png\" alt=\"Pa icon 9\" />\\n<!-- %img{ src: asset_path(\"images/pa_icon_\" + pa.id.to_s + \".png\") } -->\\n</span>\\nInternet of Things\\n</a>\\n</li>\\n<li>\\n<a aria-controls=\\'Visualizations\\' data-toggle=\\'tab\\' href=\\'#visualizations\\' role=\\'tab\\'>\\n<span class=\\'marketplace-item-icon\\'>\\n<img src=\"https://www.experfy.com/assets/practice_area_icons/pa_icon_10-6de44a0b4b4f74a9520f0ae9e627d8914f7feb58872066217e2b4697659954c8.png\" alt=\"Pa icon 10\" />\\n<!-- %img{ src: asset_path(\"images/pa_icon_\" + pa.id.to_s + \".png\") } -->\\n</span>\\nVisualizations\\n</a>\\n</li>\\n<li>\\n<a aria-controls=\\'HR Analytics\\' data-toggle=\\'tab\\' href=\\'#hr_analytics\\' role=\\'tab\\'>\\n<span class=\\'marketplace-item-icon\\'>\\n<img src=\"https://www.experfy.com/assets/practice_area_icons/pa_icon_11-ef3d6fabc821c4a1554eef40f1a23d7cc6794a314e4cc934ef131c7589f05599.png\" alt=\"Pa icon 11\" />\\n<!-- %img{ src: asset_path(\"images/pa_icon_\" + pa.id.to_s + \".png\") } -->\\n</span>\\nHR Analytics\\n</a>\\n</li>\\n<li>\\n<a aria-controls=\\'Retail Analytics\\' data-toggle=\\'tab\\' href=\\'#retail_analytics\\' role=\\'tab\\'>\\n<span class=\\'marketplace-item-icon\\'>\\n<img src=\"https://www.experfy.com/assets/practice_area_icons/pa_icon_12-03c9349715de983e1bcc73cacf8f45bd8e48e37bbb3b33acb279187f77a525ab.png\" alt=\"Pa icon 12\" />\\n<!-- %img{ src: asset_path(\"images/pa_icon_\" + pa.id.to_s + \".png\") } -->\\n</span>\\nRetail Analytics\\n</a>\\n</li>\\n<li>\\n<a aria-controls=\\'Healthcare Analytics\\' data-toggle=\\'tab\\' href=\\'#healthcare_analytics\\' role=\\'tab\\'>\\n<span class=\\'marketplace-item-icon\\'>\\n<img src=\"https://www.experfy.com/assets/practice_area_icons/pa_icon_13-3f158f3fd5c1d2a5ce3e4df9e9a60cf20e45122a39847416fca132e646381ae5.png\" alt=\"Pa icon 13\" />\\n<!-- %img{ src: asset_path(\"images/pa_icon_\" + pa.id.to_s + \".png\") } -->\\n</span>\\nHealthcare Analytics\\n</a>\\n</li>\\n<li>\\n<a aria-controls=\\'Pharma &amp; Life Sciences\\' data-toggle=\\'tab\\' href=\\'#pharma___life_sciences\\' role=\\'tab\\'>\\n<span class=\\'marketplace-item-icon\\'>\\n<img src=\"https://www.experfy.com/assets/practice_area_icons/pa_icon_14-afc59ad2b6b9fa6ef74e987134b7ae70102bdf02bd8d98d80a1cabaa08f0ab13.png\" alt=\"Pa icon 14\" />\\n<!-- %img{ src: asset_path(\"images/pa_icon_\" + pa.id.to_s + \".png\") } -->\\n</span>\\nPharma &amp; Life Sciences\\n</a>\\n</li>\\n<li>\\n<a aria-controls=\\'Sports Analytics\\' data-toggle=\\'tab\\' href=\\'#sports_analytics\\' role=\\'tab\\'>\\n<span class=\\'marketplace-item-icon\\'>\\n<img src=\"https://www.experfy.com/assets/practice_area_icons/pa_icon_15-50a324c17d081a7dcd063f14789d6ddeb6324b7163042b2c3b59192505cddb56.png\" alt=\"Pa icon 15\" />\\n<!-- %img{ src: asset_path(\"images/pa_icon_\" + pa.id.to_s + \".png\") } -->\\n</span>\\nSports Analytics\\n</a>\\n</li>\\n</ul>\\n</div>\\n<div class=\\'tab-pane-block marketplace-item-info\\'>\\n<div class=\\'tab-content\\'>\\n<div class=\\'active marketplace-items-pane tab-pane\\' id=\\'customer_analytics\\'>\\n<h2>\\nCustomer Analytics\\n</h2>\\n<ul>\\n<li>\\nCustomer Segmentation &amp; Profile\\n</li>\\n<li>\\nCustomer Lifetime Value\\n</li>\\n<li>\\nCross Selling &amp; Upselling\\n</li>\\n<li>\\nMarket Basket Analysis &amp; Product Bundling \\n</li>\\n<li>\\nRecommendation Engine &amp; Next Best Action\\n</li>\\n<li>\\nCustomer Churn Analytics\\n</li>\\n<li>\\nSentiment Analysis/ Voice of Customer\\n</li>\\n</ul>\\n<a class=\\'btn btn-bordered btn-bordered-primary btn-md btn-bordered-md-arrow ga-track-event\\' data-gae-action=\\'to Customer Analytics page\\' data-gae-category=\\'Practice Area\\' data-gae-label=\\'from homepage\\' href=\\'/customer-analytics\\'>\\n<div class=\\'btn-arrow btn-arrow-right\\'>\\n<span class=\\'btn-label\\'>Learn More</span>\\n<span class=\\'btn-arrow-icon\\'></span>\\n</div>\\n</a>\\n<div class=\"open-sign-up-modal-first\"><a class=\\'btn btn-primary btn-md btn-md-arrow ga-track-event\\' data-gae-action=\\'New project\\' data-gae-category=\\'Project\\' data-gae-label=\\'Customer Analytics\\' data-no-turbolink href=\\'/short-term-projects/?anchor=new#/new\\'>\\n<div class=\\'btn-arrow btn-arrow-right\\'>\\n<span class=\\'btn-label\\'>Post Your Project</span>\\n<span class=\\'btn-arrow-icon\\'></span>\\n</div>\\n</a>\\n</div></div>\\n<div class=\\'tab-pane marketplace-items-pane\\' id=\\'marketing_analytics\\'>\\n<h2>\\nMarketing Analytics\\n</h2>\\n<ul>\\n<li>\\nCustomer Segmentation &amp; Profile\\n</li>\\n<li>\\nPersonalized &amp; Customer Driven Marketing\\n</li>\\n<li>\\nMarketing Mix and ROI\\n</li>\\n<li>\\nAttribution Modeling &amp; Performance Attribution\\n</li>\\n<li>\\nProduct Portfolio Management\\n</li>\\n<li>\\nBrand Equity\\n</li>\\n</ul>\\n<a class=\\'btn btn-bordered btn-bordered-primary btn-md btn-bordered-md-arrow ga-track-event\\' data-gae-action=\\'to Marketing Analytics page\\' data-gae-category=\\'Practice Area\\' data-gae-label=\\'from homepage\\' href=\\'/marketing-analytics\\'>\\n<div class=\\'btn-arrow btn-arrow-right\\'>\\n<span class=\\'btn-label\\'>Learn More</span>\\n<span class=\\'btn-arrow-icon\\'></span>\\n</div>\\n</a>\\n<div class=\"open-sign-up-modal-first\"><a class=\\'btn btn-primary btn-md btn-md-arrow ga-track-event\\' data-gae-action=\\'New project\\' data-gae-category=\\'Project\\' data-gae-label=\\'Marketing Analytics\\' data-no-turbolink href=\\'/short-term-projects/?anchor=new#/new\\'>\\n<div class=\\'btn-arrow btn-arrow-right\\'>\\n<span class=\\'btn-label\\'>Post Your Project</span>\\n<span class=\\'btn-arrow-icon\\'></span>\\n</div>\\n</a>\\n</div></div>\\n<div class=\\'tab-pane marketplace-items-pane\\' id=\\'market_research\\'>\\n<h2>\\nMarket Research\\n</h2>\\n<ul>\\n<li>\\nMarket Sizing &amp; Opportunity Analysis\\n</li>\\n<li>\\nMarket Entry Strategy\\n</li>\\n<li>\\nCompetitor Analysis\\n</li>\\n<li>\\nSurvey Analytics\\n</li>\\n<li>\\nMarket Segmentation\\n</li>\\n<li>\\nCustomer Loyalty\\n</li>\\n<li>\\nBrand Equity\\n</li>\\n<li>\\nProduct Development\\n</li>\\n</ul>\\n<a class=\\'btn btn-bordered btn-bordered-primary btn-md btn-bordered-md-arrow ga-track-event\\' data-gae-action=\\'to Market Research page\\' data-gae-category=\\'Practice Area\\' data-gae-label=\\'from homepage\\' href=\\'/market-research\\'>\\n<div class=\\'btn-arrow btn-arrow-right\\'>\\n<span class=\\'btn-label\\'>Learn More</span>\\n<span class=\\'btn-arrow-icon\\'></span>\\n</div>\\n</a>\\n<div class=\"open-sign-up-modal-first\"><a class=\\'btn btn-primary btn-md btn-md-arrow ga-track-event\\' data-gae-action=\\'New project\\' data-gae-category=\\'Project\\' data-gae-label=\\'Market Research\\' data-no-turbolink href=\\'/short-term-projects/?anchor=new#/new\\'>\\n<div class=\\'btn-arrow btn-arrow-right\\'>\\n<span class=\\'btn-label\\'>Post Your Project</span>\\n<span class=\\'btn-arrow-icon\\'></span>\\n</div>\\n</a>\\n</div></div>\\n<div class=\\'tab-pane marketplace-items-pane\\' id=\\'web_analytics\\'>\\n<h2>\\nWeb Analytics\\n</h2>\\n<ul>\\n<li>\\nA/B &amp; Multivariate Testing\\n</li>\\n<li>\\nConversion Rate Optimization\\n</li>\\n<li>\\nAttribution Modeling &amp; Performance Attribution\\n</li>\\n<li>\\nWebsite Audit\\n</li>\\n<li>\\nMobile &amp; Website Tracking and eCommerce Analytics\\n</li>\\n<li>\\nSearch Engine Optimization\\n</li>\\n<li>\\nAnalytics Setup &amp; Implementation\\n</li>\\n</ul>\\n<a class=\\'btn btn-bordered btn-bordered-primary btn-md btn-bordered-md-arrow ga-track-event\\' data-gae-action=\\'to Web Analytics page\\' data-gae-category=\\'Practice Area\\' data-gae-label=\\'from homepage\\' href=\\'/web-optimization\\'>\\n<div class=\\'btn-arrow btn-arrow-right\\'>\\n<span class=\\'btn-label\\'>Learn More</span>\\n<span class=\\'btn-arrow-icon\\'></span>\\n</div>\\n</a>\\n<div class=\"open-sign-up-modal-first\"><a class=\\'btn btn-primary btn-md btn-md-arrow ga-track-event\\' data-gae-action=\\'New project\\' data-gae-category=\\'Project\\' data-gae-label=\\'Web Analytics\\' data-no-turbolink href=\\'/short-term-projects/?anchor=new#/new\\'>\\n<div class=\\'btn-arrow btn-arrow-right\\'>\\n<span class=\\'btn-label\\'>Post Your Project</span>\\n<span class=\\'btn-arrow-icon\\'></span>\\n</div>\\n</a>\\n</div></div>\\n<div class=\\'tab-pane marketplace-items-pane\\' id=\\'social_media___text_analytics\\'>\\n<h2>\\nSocial Media &amp; Text Analytics\\n</h2>\\n<ul>\\n<li>\\nSocial Media Analytics\\n</li>\\n<li>\\nContent Analytics\\n</li>\\n</ul>\\n<a class=\\'btn btn-bordered btn-bordered-primary btn-md btn-bordered-md-arrow ga-track-event\\' data-gae-action=\\'to Social Media &amp; Text Analytics page\\' data-gae-category=\\'Practice Area\\' data-gae-label=\\'from homepage\\' href=\\'/social-media-text-analytics\\'>\\n<div class=\\'btn-arrow btn-arrow-right\\'>\\n<span class=\\'btn-label\\'>Learn More</span>\\n<span class=\\'btn-arrow-icon\\'></span>\\n</div>\\n</a>\\n<div class=\"open-sign-up-modal-first\"><a class=\\'btn btn-primary btn-md btn-md-arrow ga-track-event\\' data-gae-action=\\'New project\\' data-gae-category=\\'Project\\' data-gae-label=\\'Social Media &amp; Text Analytics\\' data-no-turbolink href=\\'/short-term-projects/?anchor=new#/new\\'>\\n<div class=\\'btn-arrow btn-arrow-right\\'>\\n<span class=\\'btn-label\\'>Post Your Project</span>\\n<span class=\\'btn-arrow-icon\\'></span>\\n</div>\\n</a>\\n</div></div>\\n<div class=\\'tab-pane marketplace-items-pane\\' id=\\'pricing___sales_analytics\\'>\\n<h2>\\nPricing &amp; Sales Analytics\\n</h2>\\n<ul>\\n<li>\\nDynamic Pricing &amp; Optimization\\n</li>\\n<li>\\nPromotional Pricing\\n</li>\\n<li>\\nProfitability Analysis\\n</li>\\n<li>\\nValue Based Pricing\\n</li>\\n</ul>\\n<a class=\\'btn btn-bordered btn-bordered-primary btn-md btn-bordered-md-arrow ga-track-event\\' data-gae-action=\\'to Pricing &amp; Sales Analytics page\\' data-gae-category=\\'Practice Area\\' data-gae-label=\\'from homepage\\' href=\\'/pricing-sales-analytics\\'>\\n<div class=\\'btn-arrow btn-arrow-right\\'>\\n<span class=\\'btn-label\\'>Learn More</span>\\n<span class=\\'btn-arrow-icon\\'></span>\\n</div>\\n</a>\\n<div class=\"open-sign-up-modal-first\"><a class=\\'btn btn-primary btn-md btn-md-arrow ga-track-event\\' data-gae-action=\\'New project\\' data-gae-category=\\'Project\\' data-gae-label=\\'Pricing &amp; Sales Analytics\\' data-no-turbolink href=\\'/short-term-projects/?anchor=new#/new\\'>\\n<div class=\\'btn-arrow btn-arrow-right\\'>\\n<span class=\\'btn-label\\'>Post Your Project</span>\\n<span class=\\'btn-arrow-icon\\'></span>\\n</div>\\n</a>\\n</div></div>\\n<div class=\\'tab-pane marketplace-items-pane\\' id=\\'operations\\'>\\n<h2>\\nOperations\\n</h2>\\n<ul>\\n<li>\\nSupply Chain Analytics\\n</li>\\n<li>\\nDemand Forecasting\\n</li>\\n<li>\\nInventory Management\\n</li>\\n<li>\\nTransport Logistics\\n</li>\\n<li>\\nStrategic Sourcing\\n</li>\\n</ul>\\n<a class=\\'btn btn-bordered btn-bordered-primary btn-md btn-bordered-md-arrow ga-track-event\\' data-gae-action=\\'to Operations page\\' data-gae-category=\\'Practice Area\\' data-gae-label=\\'from homepage\\' href=\\'/operations\\'>\\n<div class=\\'btn-arrow btn-arrow-right\\'>\\n<span class=\\'btn-label\\'>Learn More</span>\\n<span class=\\'btn-arrow-icon\\'></span>\\n</div>\\n</a>\\n<div class=\"open-sign-up-modal-first\"><a class=\\'btn btn-primary btn-md btn-md-arrow ga-track-event\\' data-gae-action=\\'New project\\' data-gae-category=\\'Project\\' data-gae-label=\\'Operations\\' data-no-turbolink href=\\'/short-term-projects/?anchor=new#/new\\'>\\n<div class=\\'btn-arrow btn-arrow-right\\'>\\n<span class=\\'btn-label\\'>Post Your Project</span>\\n<span class=\\'btn-arrow-icon\\'></span>\\n</div>\\n</a>\\n</div></div>\\n<div class=\\'tab-pane marketplace-items-pane\\' id=\\'fraud___risk\\'>\\n<h2>\\nFraud &amp; Risk\\n</h2>\\n<ul>\\n<li>\\nMarket Risk Management\\n</li>\\n<li>\\nCredit Risk Management\\n</li>\\n<li>\\nRetail Fraud Detection\\n</li>\\n<li>\\nInsurance Fraud Detection\\n</li>\\n<li>\\nBank Fraud Detection\\n</li>\\n<li>\\nHealth Insurance Fraud Detection\\n</li>\\n</ul>\\n<a class=\\'btn btn-bordered btn-bordered-primary btn-md btn-bordered-md-arrow ga-track-event\\' data-gae-action=\\'to Fraud &amp; Risk page\\' data-gae-category=\\'Practice Area\\' data-gae-label=\\'from homepage\\' href=\\'/fraud-risk\\'>\\n<div class=\\'btn-arrow btn-arrow-right\\'>\\n<span class=\\'btn-label\\'>Learn More</span>\\n<span class=\\'btn-arrow-icon\\'></span>\\n</div>\\n</a>\\n<div class=\"open-sign-up-modal-first\"><a class=\\'btn btn-primary btn-md btn-md-arrow ga-track-event\\' data-gae-action=\\'New project\\' data-gae-category=\\'Project\\' data-gae-label=\\'Fraud &amp; Risk Analytics\\' data-no-turbolink href=\\'/short-term-projects/?anchor=new#/new\\'>\\n<div class=\\'btn-arrow btn-arrow-right\\'>\\n<span class=\\'btn-label\\'>Post Your Project</span>\\n<span class=\\'btn-arrow-icon\\'></span>\\n</div>\\n</a>\\n</div></div>\\n<div class=\\'tab-pane marketplace-items-pane\\' id=\\'internet_of_things\\'>\\n<h2>\\nInternet of Things\\n</h2>\\n<ul>\\n<li>\\nSmart Cities\\n</li>\\n<li>\\nSmart Manufacturing\\n</li>\\n<li>\\nSmart Healthcare\\n</li>\\n<li>\\nOil and Gas - Power Generation and Distribution\\n</li>\\n<li>\\nPredictive Maintenance\\n</li>\\n<li>\\nSmart Aviation\\n</li>\\n<li>\\nSmart Transportation\\n</li>\\n</ul>\\n<a class=\\'btn btn-bordered btn-bordered-primary btn-md btn-bordered-md-arrow ga-track-event\\' data-gae-action=\\'to Internet of Things page\\' data-gae-category=\\'Practice Area\\' data-gae-label=\\'from homepage\\' href=\\'/internet-of-things\\'>\\n<div class=\\'btn-arrow btn-arrow-right\\'>\\n<span class=\\'btn-label\\'>Learn More</span>\\n<span class=\\'btn-arrow-icon\\'></span>\\n</div>\\n</a>\\n<div class=\"open-sign-up-modal-first\"><a class=\\'btn btn-primary btn-md btn-md-arrow ga-track-event\\' data-gae-action=\\'New project\\' data-gae-category=\\'Project\\' data-gae-label=\\'Internet of Things\\' data-no-turbolink href=\\'/short-term-projects/?anchor=new#/new\\'>\\n<div class=\\'btn-arrow btn-arrow-right\\'>\\n<span class=\\'btn-label\\'>Post Your Project</span>\\n<span class=\\'btn-arrow-icon\\'></span>\\n</div>\\n</a>\\n</div></div>\\n<div class=\\'tab-pane marketplace-items-pane\\' id=\\'visualizations\\'>\\n<h2>\\nVisualizations\\n</h2>\\n<ul>\\n<li>\\nStatic &amp; Interactive Visualization\\n</li>\\n<li>\\nDashboards &amp; BI Applications\\n</li>\\n<li>\\nData Visualization &amp; Infographics\\n</li>\\n<li>\\nGeovisualization\\n</li>\\n<li>\\nUX/UI Design\\n</li>\\n</ul>\\n<a class=\\'btn btn-bordered btn-bordered-primary btn-md btn-bordered-md-arrow ga-track-event\\' data-gae-action=\\'to Visualizations page\\' data-gae-category=\\'Practice Area\\' data-gae-label=\\'from homepage\\' href=\\'/visualizations\\'>\\n<div class=\\'btn-arrow btn-arrow-right\\'>\\n<span class=\\'btn-label\\'>Learn More</span>\\n<span class=\\'btn-arrow-icon\\'></span>\\n</div>\\n</a>\\n<div class=\"open-sign-up-modal-first\"><a class=\\'btn btn-primary btn-md btn-md-arrow ga-track-event\\' data-gae-action=\\'New project\\' data-gae-category=\\'Project\\' data-gae-label=\\'Visualizations &amp; Dashboards\\' data-no-turbolink href=\\'/short-term-projects/?anchor=new#/new\\'>\\n<div class=\\'btn-arrow btn-arrow-right\\'>\\n<span class=\\'btn-label\\'>Post Your Project</span>\\n<span class=\\'btn-arrow-icon\\'></span>\\n</div>\\n</a>\\n</div></div>\\n<div class=\\'tab-pane marketplace-items-pane\\' id=\\'hr_analytics\\'>\\n<h2>\\nHR Analytics\\n</h2>\\n<ul>\\n<li>\\nRecruitment Analytics\\n</li>\\n<li>\\nRecruitment Marketing\\n</li>\\n<li>\\nEmployee Retention &amp; Attrition\\n</li>\\n<li>\\nEmployee Performance\\n</li>\\n<li>\\nCompensation and Incentive Analysis\\n</li>\\n<li>\\nWorkforce Alignment\\n</li>\\n</ul>\\n<a class=\\'btn btn-bordered btn-bordered-primary btn-md btn-bordered-md-arrow ga-track-event\\' data-gae-action=\\'to HR Analytics page\\' data-gae-category=\\'Practice Area\\' data-gae-label=\\'from homepage\\' href=\\'/workforce-analytics\\'>\\n<div class=\\'btn-arrow btn-arrow-right\\'>\\n<span class=\\'btn-label\\'>Learn More</span>\\n<span class=\\'btn-arrow-icon\\'></span>\\n</div>\\n</a>\\n<div class=\"open-sign-up-modal-first\"><a class=\\'btn btn-primary btn-md btn-md-arrow ga-track-event\\' data-gae-action=\\'New project\\' data-gae-category=\\'Project\\' data-gae-label=\\'HR Analytics\\' data-no-turbolink href=\\'/short-term-projects/?anchor=new#/new\\'>\\n<div class=\\'btn-arrow btn-arrow-right\\'>\\n<span class=\\'btn-label\\'>Post Your Project</span>\\n<span class=\\'btn-arrow-icon\\'></span>\\n</div>\\n</a>\\n</div></div>\\n<div class=\\'tab-pane marketplace-items-pane\\' id=\\'retail_analytics\\'>\\n<h2>\\nRetail Analytics\\n</h2>\\n<ul>\\n<li>\\nPersonalized &amp; Customer Driven Marketing\\n</li>\\n<li>\\nShelf Storage &amp; Merchandise Planning\\n</li>\\n<li>\\nDynamic Pricing &amp; Optimization\\n</li>\\n<li>\\nDemand Forecasting\\n</li>\\n<li>\\nFraud Detection &amp; Prevention\\n</li>\\n<li>\\nLocalization, Clustering and Real Estate Asset Management\\n</li>\\n<li>\\nProduct Catalog Classification and Optimization\\n</li>\\n<li>\\nRecommendation Engine &amp; Next Best Action\\n</li>\\n</ul>\\n<a class=\\'btn btn-bordered btn-bordered-primary btn-md btn-bordered-md-arrow ga-track-event\\' data-gae-action=\\'to Retail Analytics page\\' data-gae-category=\\'Practice Area\\' data-gae-label=\\'from homepage\\' href=\\'/retail-analytics\\'>\\n<div class=\\'btn-arrow btn-arrow-right\\'>\\n<span class=\\'btn-label\\'>Learn More</span>\\n<span class=\\'btn-arrow-icon\\'></span>\\n</div>\\n</a>\\n<div class=\"open-sign-up-modal-first\"><a class=\\'btn btn-primary btn-md btn-md-arrow ga-track-event\\' data-gae-action=\\'New project\\' data-gae-category=\\'Project\\' data-gae-label=\\'Retail Analytics\\' data-no-turbolink href=\\'/short-term-projects/?anchor=new#/new\\'>\\n<div class=\\'btn-arrow btn-arrow-right\\'>\\n<span class=\\'btn-label\\'>Post Your Project</span>\\n<span class=\\'btn-arrow-icon\\'></span>\\n</div>\\n</a>\\n</div></div>\\n<div class=\\'tab-pane marketplace-items-pane\\' id=\\'healthcare_analytics\\'>\\n<h2>\\nHealthcare Analytics\\n</h2>\\n<ul>\\n<li>\\nPopulation Health Management\\n</li>\\n<li>\\nHospital Management and Administration\\n</li>\\n<li>\\nHealth Insurance Analytics\\n</li>\\n<li>\\nInteroperability\\n</li>\\n</ul>\\n<a class=\\'btn btn-bordered btn-bordered-primary btn-md btn-bordered-md-arrow ga-track-event\\' data-gae-action=\\'to Healthcare Analytics page\\' data-gae-category=\\'Practice Area\\' data-gae-label=\\'from homepage\\' href=\\'/health-analytics\\'>\\n<div class=\\'btn-arrow btn-arrow-right\\'>\\n<span class=\\'btn-label\\'>Learn More</span>\\n<span class=\\'btn-arrow-icon\\'></span>\\n</div>\\n</a>\\n<div class=\"open-sign-up-modal-first\"><a class=\\'btn btn-primary btn-md btn-md-arrow ga-track-event\\' data-gae-action=\\'New project\\' data-gae-category=\\'Project\\' data-gae-label=\\'Healthcare Analytics\\' data-no-turbolink href=\\'/short-term-projects/?anchor=new#/new\\'>\\n<div class=\\'btn-arrow btn-arrow-right\\'>\\n<span class=\\'btn-label\\'>Post Your Project</span>\\n<span class=\\'btn-arrow-icon\\'></span>\\n</div>\\n</a>\\n</div></div>\\n<div class=\\'tab-pane marketplace-items-pane\\' id=\\'pharma___life_sciences\\'>\\n<h2>\\nPharma &amp; Life Sciences\\n</h2>\\n<ul>\\n<li>\\nPharmaceutical R&amp;D\\n</li>\\n<li>\\nPharmaceutical Marketing\\n</li>\\n<li>\\nPharmaceutical Supply Chain\\n</li>\\n<li>\\nManaged Markets\\n</li>\\n<li>\\nPharmaceutical Market Research &amp; Strategy\\n</li>\\n<li>\\nMarketing Mix Models for Pharma\\n</li>\\n</ul>\\n<a class=\\'btn btn-bordered btn-bordered-primary btn-md btn-bordered-md-arrow ga-track-event\\' data-gae-action=\\'to Pharma &amp; Life Sciences page\\' data-gae-category=\\'Practice Area\\' data-gae-label=\\'from homepage\\' href=\\'/life-sciences\\'>\\n<div class=\\'btn-arrow btn-arrow-right\\'>\\n<span class=\\'btn-label\\'>Learn More</span>\\n<span class=\\'btn-arrow-icon\\'></span>\\n</div>\\n</a>\\n<div class=\"open-sign-up-modal-first\"><a class=\\'btn btn-primary btn-md btn-md-arrow ga-track-event\\' data-gae-action=\\'New project\\' data-gae-category=\\'Project\\' data-gae-label=\\'Pharma &amp; Life Sciences\\' data-no-turbolink href=\\'/short-term-projects/?anchor=new#/new\\'>\\n<div class=\\'btn-arrow btn-arrow-right\\'>\\n<span class=\\'btn-label\\'>Post Your Project</span>\\n<span class=\\'btn-arrow-icon\\'></span>\\n</div>\\n</a>\\n</div></div>\\n<div class=\\'tab-pane marketplace-items-pane\\' id=\\'sports_analytics\\'>\\n<h2>\\nSports Analytics\\n</h2>\\n<ul>\\n<li>\\nSabermetrics\\n</li>\\n<li>\\nBasketball Analytics\\n</li>\\n<li>\\nFootball Analytics\\n</li>\\n<li>\\nSports Marketing Analytics\\n</li>\\n<li>\\nDynamic Ticket Pricing Optimization\\n</li>\\n<li>\\nDemand Forecasting\\n</li>\\n</ul>\\n<a class=\\'btn btn-bordered btn-bordered-primary btn-md btn-bordered-md-arrow ga-track-event\\' data-gae-action=\\'to Sports Analytics page\\' data-gae-category=\\'Practice Area\\' data-gae-label=\\'from homepage\\' href=\\'/sports-analytics\\'>\\n<div class=\\'btn-arrow btn-arrow-right\\'>\\n<span class=\\'btn-label\\'>Learn More</span>\\n<span class=\\'btn-arrow-icon\\'></span>\\n</div>\\n</a>\\n<div class=\"open-sign-up-modal-first\"><a class=\\'btn btn-primary btn-md btn-md-arrow ga-track-event\\' data-gae-action=\\'New project\\' data-gae-category=\\'Project\\' data-gae-label=\\'Sports Analytics\\' data-no-turbolink href=\\'/short-term-projects/?anchor=new#/new\\'>\\n<div class=\\'btn-arrow btn-arrow-right\\'>\\n<span class=\\'btn-label\\'>Post Your Project</span>\\n<span class=\\'btn-arrow-icon\\'></span>\\n</div>\\n</a>\\n</div></div>\\n</div>\\n</div>\\n</div>\\n<div class=\\'technology-pane tab-pane\\' id=\\'technology\\' role=\\'tabpanel\\'>\\n<div class=\\'tab-pane-block\\'>\\n<ul class=\\'technology-items-tabs nav nav-tabs\\'>\\n<li class=\\'active\\'>\\n<a aria-controls=\\'home\\' data-index=\\'0\\' data-toggle=\\'tab\\' href=\\'#big_data___technology\\' role=\\'tab\\'>\\n<span class=\\'technology-item-icon technology-item-icon-1\\'></span>\\nBig Data &amp; Technology\\n</a>\\n</li>\\n<li>\\n<a aria-controls=\\'home\\' data-index=\\'1\\' data-toggle=\\'tab\\' href=\\'#business_intelligence___data_warehousing\\' role=\\'tab\\'>\\n<span class=\\'technology-item-icon technology-item-icon-2\\'></span>\\nBusiness Intelligence &amp; Data Warehousing\\n</a>\\n</li>\\n<li>\\n<a aria-controls=\\'home\\' data-index=\\'2\\' data-toggle=\\'tab\\' href=\\'#data_integration___management\\' role=\\'tab\\'>\\n<span class=\\'technology-item-icon technology-item-icon-3\\'></span>\\nData Integration &amp; Management\\n</a>\\n</li>\\n<li>\\n<a aria-controls=\\'home\\' data-index=\\'3\\' data-toggle=\\'tab\\' href=\\'#predictive_analytics___forecasting\\' role=\\'tab\\'>\\n<span class=\\'technology-item-icon technology-item-icon-4\\'></span>\\nPredictive Analytics &amp; Forecasting\\n</a>\\n</li>\\n<li>\\n<a aria-controls=\\'home\\' data-index=\\'4\\' data-toggle=\\'tab\\' href=\\'#data_driven_apps\\' role=\\'tab\\'>\\n<span class=\\'technology-item-icon technology-item-icon-6\\'></span>\\nData Driven Apps\\n</a>\\n</li>\\n<li>\\n<a aria-controls=\\'home\\' data-index=\\'5\\' data-toggle=\\'tab\\' href=\\'#aws___cloud\\' role=\\'tab\\'>\\n<span class=\\'technology-item-icon technology-item-icon-5\\'></span>\\nAWS &amp; Cloud\\n</a>\\n</li>\\n<li>\\n<a aria-controls=\\'home\\' data-index=\\'6\\' data-toggle=\\'tab\\' href=\\'#mobility___analytics\\' role=\\'tab\\'>\\n<span class=\\'technology-item-icon technology-item-icon-7\\'></span>\\nMobility &amp; Analytics\\n</a>\\n</li>\\n</ul>\\n</div>\\n<div class=\\'tab-pane-block marketplace-item-info\\'>\\n<div class=\\'tab-content\\'>\\n<div class=\\'active marketplace-items-pane tab-pane\\' id=\\'big_data___technology\\'>\\n<h2>\\nBig Data &amp; Technology\\n</h2>\\n<ul>\\r\\n\\t<li>Big Data Strategy, Architecture and Roadmap</li>\\r\\n\\t<li>Technology and Tools Evaluation</li>\\r\\n\\t<li>Planning, Design and Implementation of Hadoop and other Big Data Environments</li>\\r\\n\\t<li>Piloting and Proof of Concept</li>\\r\\n\\t<li>Testing, Performance Tuning and Optimization</li>\\r\\n\\t<li>Documentation, Training, Reverse Engineering, Upgrades, Maintenance and Migration</li>\\r\\n</ul>\\r\\n\\n<a class=\\'btn btn-bordered btn-bordered-primary btn-md btn-bordered-md-arrow ga-track-event technology-service-link\\' data-gae-action=\\'to Big Data &amp; Technology\\' data-gae-category=\\'Technology Service\\' data-gae-label=\\'from homepage\\' data-id=\\'#technology-service-big-data-and-technology\\' data-mixpanel-event=\\'View Technology Service\\' data-mixpanel-location=\\'Homepage Marketplace\\' data-mixpanel-name=\\'Big Data &amp; Technology\\' data-no-turbolink href=\\'#\\'>\\n<div class=\\'btn-arrow btn-arrow-right\\'>\\n<span class=\\'btn-label\\'>Learn More</span>\\n<span class=\\'btn-arrow-icon\\'></span>\\n</div>\\n</a>\\n<div class=\"open-sign-up-modal-first\"><a class=\\'btn btn-primary btn-md btn-md-arrow ga-track-event\\' data-gae-action=\\'New project\\' data-gae-category=\\'Technology Services\\' data-gae-label=\\'Big Data &amp; Technology\\' data-no-turbolink href=\\'/short-term-projects?anchor=/new/2/1#/new/2/1\\'>\\n<div class=\\'btn-arrow btn-arrow-right\\'>\\n<span class=\\'btn-label\\'>Post Your Project</span>\\n<span class=\\'btn-arrow-icon\\'></span>\\n</div>\\n</a>\\n</div></div>\\n<div class=\\'tab-pane marketplace-items-pane\\' id=\\'business_intelligence___data_warehousing\\'>\\n<h2>\\nBusiness Intelligence &amp; Data Warehousing\\n</h2>\\n<ul>\\r\\n\\t<li>Data Warehouse Architecture and Implementation&nbsp;</li>\\r\\n\\t<li>ETL- Extract, Transform, and Load</li>\\r\\n\\t<li>Data Delivery (Enterprise Reporting, OLAP, Dashboards, Geographical Information Systems,&nbsp;Data Mining, Event Driven BI and Applications)</li>\\r\\n\\t<li>Structured Search</li>\\r\\n</ul>\\r\\n\\n<a class=\\'btn btn-bordered btn-bordered-primary btn-md btn-bordered-md-arrow ga-track-event technology-service-link\\' data-gae-action=\\'to Business Intelligence &amp; Data Warehousing\\' data-gae-category=\\'Technology Service\\' data-gae-label=\\'from homepage\\' data-id=\\'#technology-service-business-intelligence-and-data-warehousing\\' data-mixpanel-event=\\'View Technology Service\\' data-mixpanel-location=\\'Homepage Marketplace\\' data-mixpanel-name=\\'Business Intelligence &amp; Data Warehousing\\' data-no-turbolink href=\\'#\\'>\\n<div class=\\'btn-arrow btn-arrow-right\\'>\\n<span class=\\'btn-label\\'>Learn More</span>\\n<span class=\\'btn-arrow-icon\\'></span>\\n</div>\\n</a>\\n<div class=\"open-sign-up-modal-first\"><a class=\\'btn btn-primary btn-md btn-md-arrow ga-track-event\\' data-gae-action=\\'New project\\' data-gae-category=\\'Technology Services\\' data-gae-label=\\'Business Intelligence &amp; Data Warehousing\\' data-no-turbolink href=\\'/short-term-projects?anchor=/new/2/2#/new/2/2\\'>\\n<div class=\\'btn-arrow btn-arrow-right\\'>\\n<span class=\\'btn-label\\'>Post Your Project</span>\\n<span class=\\'btn-arrow-icon\\'></span>\\n</div>\\n</a>\\n</div></div>\\n<div class=\\'tab-pane marketplace-items-pane\\' id=\\'data_integration___management\\'>\\n<h2>\\nData Integration &amp; Management\\n</h2>\\n<ul>\\r\\n\\t<li>Data Architecture&nbsp;</li>\\r\\n\\t<li>Data Migration and Integration (ETL, Data Standardization, Data Cleansing and Reconciliation)</li>\\r\\n\\t<li>Data Quality Management</li>\\r\\n\\t<li>Meta Data Management</li>\\r\\n\\t<li>Master Data Management</li>\\r\\n\\t<li>Data Security</li>\\r\\n\\t<li>Data Governance</li>\\r\\n</ul>\\r\\n\\n<a class=\\'btn btn-bordered btn-bordered-primary btn-md btn-bordered-md-arrow ga-track-event technology-service-link\\' data-gae-action=\\'to Data Integration &amp; Management\\' data-gae-category=\\'Technology Service\\' data-gae-label=\\'from homepage\\' data-id=\\'#technology-service-data-integration-and-management\\' data-mixpanel-event=\\'View Technology Service\\' data-mixpanel-location=\\'Homepage Marketplace\\' data-mixpanel-name=\\'Data Integration &amp; Management\\' data-no-turbolink href=\\'#\\'>\\n<div class=\\'btn-arrow btn-arrow-right\\'>\\n<span class=\\'btn-label\\'>Learn More</span>\\n<span class=\\'btn-arrow-icon\\'></span>\\n</div>\\n</a>\\n<div class=\"open-sign-up-modal-first\"><a class=\\'btn btn-primary btn-md btn-md-arrow ga-track-event\\' data-gae-action=\\'New project\\' data-gae-category=\\'Technology Services\\' data-gae-label=\\'Data Integration &amp; Management\\' data-no-turbolink href=\\'/short-term-projects?anchor=/new/2/3#/new/2/3\\'>\\n<div class=\\'btn-arrow btn-arrow-right\\'>\\n<span class=\\'btn-label\\'>Post Your Project</span>\\n<span class=\\'btn-arrow-icon\\'></span>\\n</div>\\n</a>\\n</div></div>\\n<div class=\\'tab-pane marketplace-items-pane\\' id=\\'predictive_analytics___forecasting\\'>\\n<h2>\\nPredictive Analytics &amp; Forecasting\\n</h2>\\n<ul>\\r\\n\\t<li>Analytics Maturity Assessment</li>\\r\\n\\t<li>Data Analysis and Modeling&nbsp;</li>\\r\\n\\t<li>Data Mining</li>\\r\\n\\t<li>Data Discovery and Pattern Analysis</li>\\r\\n\\t<li>Unstructured Data Analysis</li>\\r\\n\\t<li>Analytics Mart Design and Development</li>\\r\\n\\t<li>Operational Analytics Dashboards</li>\\r\\n\\t<li>Diagnostic, Predictive and Prescriptive Model Design&nbsp;(Computer Vision, Spatial Analysis, Time Series Analysis and more)</li>\\r\\n</ul>\\r\\n\\n<a class=\\'btn btn-bordered btn-bordered-primary btn-md btn-bordered-md-arrow ga-track-event technology-service-link\\' data-gae-action=\\'to Predictive Analytics &amp; Forecasting\\' data-gae-category=\\'Technology Service\\' data-gae-label=\\'from homepage\\' data-id=\\'#technology-service-predictive-analytics-and-forecasting\\' data-mixpanel-event=\\'View Technology Service\\' data-mixpanel-location=\\'Homepage Marketplace\\' data-mixpanel-name=\\'Predictive Analytics &amp; Forecasting\\' data-no-turbolink href=\\'#\\'>\\n<div class=\\'btn-arrow btn-arrow-right\\'>\\n<span class=\\'btn-label\\'>Learn More</span>\\n<span class=\\'btn-arrow-icon\\'></span>\\n</div>\\n</a>\\n<div class=\"open-sign-up-modal-first\"><a class=\\'btn btn-primary btn-md btn-md-arrow ga-track-event\\' data-gae-action=\\'New project\\' data-gae-category=\\'Technology Services\\' data-gae-label=\\'Predictive Analytics &amp; Forecasting\\' data-no-turbolink href=\\'/short-term-projects?anchor=/new/2/4#/new/2/4\\'>\\n<div class=\\'btn-arrow btn-arrow-right\\'>\\n<span class=\\'btn-label\\'>Post Your Project</span>\\n<span class=\\'btn-arrow-icon\\'></span>\\n</div>\\n</a>\\n</div></div>\\n<div class=\\'tab-pane marketplace-items-pane\\' id=\\'data_driven_apps\\'>\\n<h2>\\nData Driven Apps\\n</h2>\\n<ul>\\r\\n\\t<li>Desktop Applications&nbsp;</li>\\r\\n\\t<li>Web Programming&nbsp;</li>\\r\\n\\t<li>Gaming Applications</li>\\r\\n\\t<li>Information Extraction &nbsp;and Web Scraping Systems</li>\\r\\n\\t<li>Scripts and Utilities</li>\\r\\n\\t<li>E-Commerce</li>\\r\\n\\t<li>Software Plug-ins</li>\\r\\n</ul>\\r\\n\\n<a class=\\'btn btn-bordered btn-bordered-primary btn-md btn-bordered-md-arrow ga-track-event technology-service-link\\' data-gae-action=\\'to Data Driven Apps\\' data-gae-category=\\'Technology Service\\' data-gae-label=\\'from homepage\\' data-id=\\'#technology-service-data-driven-apps\\' data-mixpanel-event=\\'View Technology Service\\' data-mixpanel-location=\\'Homepage Marketplace\\' data-mixpanel-name=\\'Data Driven Apps\\' data-no-turbolink href=\\'#\\'>\\n<div class=\\'btn-arrow btn-arrow-right\\'>\\n<span class=\\'btn-label\\'>Learn More</span>\\n<span class=\\'btn-arrow-icon\\'></span>\\n</div>\\n</a>\\n<div class=\"open-sign-up-modal-first\"><a class=\\'btn btn-primary btn-md btn-md-arrow ga-track-event\\' data-gae-action=\\'New project\\' data-gae-category=\\'Technology Services\\' data-gae-label=\\'Data Driven Apps\\' data-no-turbolink href=\\'/short-term-projects?anchor=/new/2/6#/new/2/6\\'>\\n<div class=\\'btn-arrow btn-arrow-right\\'>\\n<span class=\\'btn-label\\'>Post Your Project</span>\\n<span class=\\'btn-arrow-icon\\'></span>\\n</div>\\n</a>\\n</div></div>\\n<div class=\\'tab-pane marketplace-items-pane\\' id=\\'aws___cloud\\'>\\n<h2>\\nAWS &amp; Cloud\\n</h2>\\n<ul>\\r\\n\\t<li>Cloud Strategy Development</li>\\r\\n\\t<li>Cloud Implementation Roadmap Development&nbsp;</li>\\r\\n\\t<li>Public Cloud Integration and Management</li>\\r\\n\\t<li>Private Cloud Design, Implementation &amp; Management</li>\\r\\n\\t<li>Integrating the Cloud through Managed Processes&nbsp;and Automation</li>\\r\\n</ul>\\r\\n\\n<a class=\\'btn btn-bordered btn-bordered-primary btn-md btn-bordered-md-arrow ga-track-event technology-service-link\\' data-gae-action=\\'to AWS &amp; Cloud\\' data-gae-category=\\'Technology Service\\' data-gae-label=\\'from homepage\\' data-id=\\'#technology-service-aws-and-cloud\\' data-mixpanel-event=\\'View Technology Service\\' data-mixpanel-location=\\'Homepage Marketplace\\' data-mixpanel-name=\\'AWS &amp; Cloud\\' data-no-turbolink href=\\'#\\'>\\n<div class=\\'btn-arrow btn-arrow-right\\'>\\n<span class=\\'btn-label\\'>Learn More</span>\\n<span class=\\'btn-arrow-icon\\'></span>\\n</div>\\n</a>\\n<div class=\"open-sign-up-modal-first\"><a class=\\'btn btn-primary btn-md btn-md-arrow ga-track-event\\' data-gae-action=\\'New project\\' data-gae-category=\\'Technology Services\\' data-gae-label=\\'AWS &amp; Cloud\\' data-no-turbolink href=\\'/short-term-projects?anchor=/new/2/5#/new/2/5\\'>\\n<div class=\\'btn-arrow btn-arrow-right\\'>\\n<span class=\\'btn-label\\'>Post Your Project</span>\\n<span class=\\'btn-arrow-icon\\'></span>\\n</div>\\n</a>\\n</div></div>\\n<div class=\\'tab-pane marketplace-items-pane\\' id=\\'mobility___analytics\\'>\\n<h2>\\nMobility &amp; Analytics\\n</h2>\\n<ul>\\r\\n\\t<li>Mobile Advertising&nbsp;</li>\\r\\n\\t<li>Mobile App Development</li>\\r\\n\\t<li>Mobile UX &amp; Interactive</li>\\r\\n\\t<li>Mobile Analytics</li>\\r\\n</ul>\\r\\n\\n<a class=\\'btn btn-bordered btn-bordered-primary btn-md btn-bordered-md-arrow ga-track-event technology-service-link\\' data-gae-action=\\'to Mobility &amp; Analytics\\' data-gae-category=\\'Technology Service\\' data-gae-label=\\'from homepage\\' data-id=\\'#technology-service-mobility-and-analytics\\' data-mixpanel-event=\\'View Technology Service\\' data-mixpanel-location=\\'Homepage Marketplace\\' data-mixpanel-name=\\'Mobility &amp; Analytics\\' data-no-turbolink href=\\'#\\'>\\n<div class=\\'btn-arrow btn-arrow-right\\'>\\n<span class=\\'btn-label\\'>Learn More</span>\\n<span class=\\'btn-arrow-icon\\'></span>\\n</div>\\n</a>\\n<div class=\"open-sign-up-modal-first\"><a class=\\'btn btn-primary btn-md btn-md-arrow ga-track-event\\' data-gae-action=\\'New project\\' data-gae-category=\\'Technology Services\\' data-gae-label=\\'Mobility &amp; Analytics\\' data-no-turbolink href=\\'/short-term-projects?anchor=/new/2/7#/new/2/7\\'>\\n<div class=\\'btn-arrow btn-arrow-right\\'>\\n<span class=\\'btn-label\\'>Post Your Project</span>\\n<span class=\\'btn-arrow-icon\\'></span>\\n</div>\\n</a>\\n</div></div>\\n</div>\\n</div>\\n</div>\\n</div>\\n</div>\\n</div>\\n\\n</section>\\n<section class=\\'home-training\\'>\\n<div class=\\'training-features-container\\'>\\n<div class=\\'training-features\\'>\\n<h2>Training</h2>\\n<div class=\\'training-features-class section-features-tabs\\'>\\n<div class=\\'features-tabs\\'>\\n<ul class=\\'nav nav-tabs\\'>\\n<li class=\\'active\\'>\\n<a aria-controls=\\'individuals\\' data-toggle=\\'tab\\' href=\\'#individuals\\' role=\\'tab\\'>\\nFor Individuals\\n</a>\\n</li>\\n<li>\\n<a aria-controls=\\'companies\\' data-toggle=\\'tab\\' href=\\'#companies\\' role=\\'tab\\'>\\nFor Companies\\n</a>\\n</li>\\n</ul>\\n</div>\\n<div class=\\'features-tab-content tab-content\\'>\\n<div class=\\'tab-pane active\\' id=\\'individuals\\'>\\n<h3>Big Data Analytics and Tech Training to Advance Your Career</h3>\\n<p>Developed by industry thought leaders and Experfy in Harvard Innovation Lab. Sharp focus on domain-specific use-cases making you productive as soon as you leave the classroom.</p>\\n<a class=\\'btn btn-bordered btn-bordered-secondary btn-md btn-md-arrow ga-track-event\\' data-gae-action=\\'Training Individual\\' data-gae-category=\\'Training\\' data-gae-label=\\'from homepage\\' href=\\'/training/courses\\'>\\n<div class=\\'btn-arrow btn-arrow-right\\'>\\n<span class=\\'btn-label\\'>Learn More</span>\\n<span class=\\'btn-arrow-icon\\'></span>\\n</div>\\n</a>\\n</div>\\n<div class=\\'tab-pane\\' id=\\'companies\\'>\\n<h3 class=\\'is-visible\\'>Give Your Employees a Skills Upgrade</h3>\\n<p class=\\'is-visible\\'>The world of big data, analytics, and engineering is evolving at a breakneck speed.  Give your employees access to on-demand courses to hone their technical skills.  Experfy provides hands-on real world courses led by thought leaders in the industry.</p>\\n<a class=\\'btn btn-bordered btn-bordered-secondary btn-md btn-md-arrow ga-track-event is-visible\\' data-gae-action=\\'Training Corporate\\' data-gae-category=\\'Training\\' data-gae-label=\\'from homepage\\' href=\\'/training/business\\'>\\n<div class=\\'btn-arrow btn-arrow-right\\'>\\n<span class=\\'btn-label\\'>Learn More</span>\\n<span class=\\'btn-arrow-icon\\'></span>\\n</div>\\n</a>\\n</div>\\n</div>\\n</div>\\n</div>\\n</div>\\n<div class=\\'training-items\\'>\\n<h3>Popular Courses</h3>\\n<div class=\\'training-items-courses\\'>\\n<div class=\\'card-container\\'>\\n<div class=\\'card card-course\\'>\\n<a class=\"card-img-link\" href=\"/training/courses/big-data-analyst\"><img src=\"https://experfy.s3.amazonaws.com/uploads/course/cover/38/c13e13d827.png\" alt=\"C13e13d827\" />\\n</a><div class=\\'card-block\\'>\\n<p class=\\'card-heading\\'>\\n<a href=\"/training/tracks/big-data-training-certification\">Big Data</a>, <a href=\"/training/tracks/data-analyst-training-certification\">Data Analyst</a>, <a href=\"/training/tracks/big-data-iot-executive-training\">Executive Track</a>\\n</p>\\n<h5 class=\\'card-title\\'>\\n<a href=\"/training/courses/big-data-analyst\">Big Data Analyst </a>\\n</h5>\\n<p class=\\'card-subheading\\'>\\nSumit Pal\\n</p>\\n</div>\\n<div class=\\'card-footer\\'>\\n<span class=\\'footer-block-right\\'>\\nSelf-Paced\\n</span>\\n<span class=\\'footer-block-left\\'>\\n$150\\n</span>\\n</div>\\n</div>\\n</div>\\n<div class=\\'card-container\\'>\\n<div class=\\'card card-course\\'>\\n<a class=\"card-img-link\" href=\"/training/courses/analytics-for-the-internet-of-things\"><img src=\"https://experfy.s3.amazonaws.com/uploads/course/cover/39/35f44aa5c0.png\" alt=\"35f44aa5c0\" />\\n</a><div class=\\'card-block\\'>\\n<p class=\\'card-heading\\'>\\n<a href=\"/training/tracks/internet-of-things-training-certification\">Internet of Things</a>, <a href=\"/training/tracks/data-analyst-training-certification\">Data Analyst</a>\\n</p>\\n<h5 class=\\'card-title\\'>\\n<a href=\"/training/courses/analytics-for-the-internet-of-things\">Analytics for the Internet of Things</a>\\n</h5>\\n<p class=\\'card-subheading\\'>\\nDr. Vishnu  Nanduri\\n</p>\\n</div>\\n<div class=\\'card-footer\\'>\\n<span class=\\'footer-block-right\\'>\\nSelf-Paced\\n</span>\\n<span class=\\'footer-block-left\\'>\\n$79\\n</span>\\n</div>\\n</div>\\n</div>\\n<div class=\\'card-container\\'>\\n<div class=\\'card card-course\\'>\\n<a class=\"card-img-link\" href=\"/training/courses/hadoop-developer-training\"><img src=\"https://experfy.s3.amazonaws.com/uploads/course/cover/61/8a67f95370.png\" alt=\"8a67f95370\" />\\n</a><div class=\\'card-block\\'>\\n<p class=\\'card-heading\\'>\\n<a href=\"/training/tracks/big-data-training-certification\">Big Data</a>\\n</p>\\n<h5 class=\\'card-title\\'>\\n<a href=\"/training/courses/hadoop-developer-training\">Hadoop Developer Training </a>\\n</h5>\\n<p class=\\'card-subheading\\'>\\nMatt Pouttu Clarke\\n</p>\\n</div>\\n<div class=\\'card-footer\\'>\\n<span class=\\'footer-block-right\\'>\\nSelf-Paced\\n</span>\\n<span class=\\'footer-block-left\\'>\\n$399\\n</span>\\n</div>\\n</div>\\n</div>\\n<div class=\\'card-container\\'>\\n<div class=\\'card card-course\\'>\\n<a class=\"card-img-link\" href=\"/training/courses/algorithmic-trading-strategies\"><img src=\"https://experfy.s3.amazonaws.com/uploads/course/cover/48/39cf29586a.png\" alt=\"39cf29586a\" />\\n</a><div class=\\'card-block\\'>\\n<p class=\\'card-heading\\'>\\n<a href=\"/training/tracks/big-data-training-certification\">Big Data</a>\\n</p>\\n<h5 class=\\'card-title\\'>\\n<a href=\"/training/courses/algorithmic-trading-strategies\">Algorithmic Trading Strategies</a>\\n</h5>\\n<p class=\\'card-subheading\\'>\\nNick Firoozye\\n</p>\\n</div>\\n<div class=\\'card-footer\\'>\\n<span class=\\'footer-block-right\\'>\\nSelf-Paced\\n</span>\\n<span class=\\'footer-block-left\\'>\\n$350\\n</span>\\n</div>\\n</div>\\n</div>\\n<div class=\\'card-container\\'>\\n<div class=\\'card card-course\\'>\\n<a class=\"card-img-link\" href=\"/training/courses/mastering-data-visualization-using-tableau-from-basic-to-advanced\"><img src=\"https://experfy.s3.amazonaws.com/uploads/course/cover/32/fd181caca5.png\" alt=\"Fd181caca5\" />\\n</a><div class=\\'card-block\\'>\\n<p class=\\'card-heading\\'>\\n<a href=\"/training/tracks/marketing-analytics-training-certification\">Marketing &amp; Customer Analytics</a>, <a href=\"/training/tracks/data-analyst-training-certification\">Data Analyst</a>, <a href=\"/training/tracks/business-intelligence-training-certification\">Business Intelligence</a>\\n</p>\\n<h5 class=\\'card-title\\'>\\n<a href=\"/training/courses/mastering-data-visualization-using-tableau-from-basic-to-advanced\">Mastering Data Visualization Using Tableau: From Basic to Advanced</a>\\n</h5>\\n<p class=\\'card-subheading\\'>\\nKirill Eremenko, Leonid G\\n</p>\\n</div>\\n<div class=\\'card-footer\\'>\\n<span class=\\'footer-block-right\\'>\\nSelf-Paced\\n</span>\\n<span class=\\'footer-block-left\\'>\\n$39\\n</span>\\n</div>\\n</div>\\n</div>\\n<div class=\\'card-container\\'>\\n<div class=\\'card card-course\\'>\\n<a class=\"card-img-link\" href=\"/training/courses/machine-learning-foundations-supervised-learning\"><img src=\"https://experfy.s3.amazonaws.com/uploads/course/cover/24/487110f85e.png\" alt=\"487110f85e\" />\\n</a><div class=\\'card-block\\'>\\n<p class=\\'card-heading\\'>\\n<a href=\"/training/tracks/data-science-training-certification\">Data Science</a>\\n</p>\\n<h5 class=\\'card-title\\'>\\n<a href=\"/training/courses/machine-learning-foundations-supervised-learning\">Machine Learning Foundations: Supervised Learning</a>\\n</h5>\\n<p class=\\'card-subheading\\'>\\nPeter Chen\\n</p>\\n</div>\\n<div class=\\'card-footer\\'>\\n<span class=\\'footer-block-right\\'>\\nSelf-Paced\\n</span>\\n<span class=\\'footer-block-left\\'>\\n$69\\n</span>\\n</div>\\n</div>\\n</div>\\n<div class=\\'card-container\\'>\\n<div class=\\'card card-course\\'>\\n<a class=\"card-img-link\" href=\"/training/courses/clustering-and-association-rule-mining\"><img src=\"https://experfy.s3.amazonaws.com/uploads/course/cover/70/cbfeaf1d85.png\" alt=\"Cbfeaf1d85\" />\\n</a><div class=\\'card-block\\'>\\n<p class=\\'card-heading\\'>\\n<a href=\"/training/tracks/data-science-training-certification\">Data Science</a>\\n</p>\\n<h5 class=\\'card-title\\'>\\n<a href=\"/training/courses/clustering-and-association-rule-mining\">Clustering  and Association Rule Mining</a>\\n</h5>\\n<p class=\\'card-subheading\\'>\\nAnirban  Ghosh\\n</p>\\n</div>\\n<div class=\\'card-footer\\'>\\n<span class=\\'footer-block-right\\'>\\nSelf-Paced\\n</span>\\n<span class=\\'footer-block-left\\'>\\n$129\\n</span>\\n</div>\\n</div>\\n</div>\\n<div class=\\'card-container\\'>\\n<div class=\\'card card-course\\'>\\n<a class=\"card-img-link\" href=\"/training/courses/introduction-to-applications-of-data-science-in-the-healthcare-industry\"><img src=\"https://experfy.s3.amazonaws.com/uploads/course/cover/69/1b49339170.png\" alt=\"1b49339170\" />\\n</a><div class=\\'card-block\\'>\\n<p class=\\'card-heading\\'>\\n<a href=\"/training/tracks/data-science-in-healthcare-and-life-sciences-training-certification\">Industry Track (Healthcare &amp; Life Sciences)</a>, <a href=\"/training/tracks/big-data-iot-executive-training\">Executive Track</a>\\n</p>\\n<h5 class=\\'card-title\\'>\\n<a href=\"/training/courses/introduction-to-applications-of-data-science-in-the-healthcare-industry\">Introduction to Applications of Data Science in the Healthcare Industry </a>\\n</h5>\\n<p class=\\'card-subheading\\'>\\nMichael  Luk\\n</p>\\n</div>\\n<div class=\\'card-footer\\'>\\n<span class=\\'footer-block-right\\'>\\nSelf-Paced\\n</span>\\n<span class=\\'footer-block-left\\'>\\n$50\\n</span>\\n</div>\\n</div>\\n</div>\\n<div class=\\'card-container\\'>\\n<div class=\\'card card-course\\'>\\n<a class=\"card-img-link\" href=\"/training/courses/data-wrangling-in-r\"><img src=\"https://experfy.s3.amazonaws.com/uploads/course/cover/40/71e372ec16.png\" alt=\"71e372ec16\" />\\n</a><div class=\\'card-block\\'>\\n<p class=\\'card-heading\\'>\\n<a href=\"/training/tracks/big-data-training-certification\">Big Data</a>, <a href=\"/training/tracks/data-analyst-training-certification\">Data Analyst</a>, <a href=\"/training/tracks/business-intelligence-training-certification\">Business Intelligence</a>, <a href=\"/training/tracks/data-science-training-certification\">Data Science</a>\\n</p>\\n<h5 class=\\'card-title\\'>\\n<a href=\"/training/courses/data-wrangling-in-r\">Data Wrangling in R</a>\\n</h5>\\n<p class=\\'card-subheading\\'>\\nDr. Connie Brett\\n</p>\\n</div>\\n<div class=\\'card-footer\\'>\\n<span class=\\'footer-block-right\\'>\\nSelf-Paced, Instructor-Led\\n</span>\\n<span class=\\'footer-block-left\\'>\\n$149\\n</span>\\n</div>\\n</div>\\n</div>\\n<div class=\\'card-container\\'>\\n<div class=\\'card card-course\\'>\\n<a class=\"card-img-link\" href=\"/training/courses/marketing-analytics-text-analysis-recommendation-systems\"><img src=\"https://experfy.s3.amazonaws.com/uploads/course/cover/19/f28684ad3d.png\" alt=\"F28684ad3d\" />\\n</a><div class=\\'card-block\\'>\\n<p class=\\'card-heading\\'>\\n<a href=\"/training/tracks/text-analytics-nlp-training-certification\">Text Analytics and NLP</a>, <a href=\"/training/tracks/marketing-analytics-training-certification\">Marketing &amp; Customer Analytics</a>\\n</p>\\n<h5 class=\\'card-title\\'>\\n<a href=\"/training/courses/marketing-analytics-text-analysis-recommendation-systems\"> Marketing Analytics: Text Analysis &amp; Recommendation Systems</a>\\n</h5>\\n<p class=\\'card-subheading\\'>\\nHadi Harb\\n</p>\\n</div>\\n<div class=\\'card-footer\\'>\\n<span class=\\'footer-block-right\\'>\\nSelf-Paced, Instructor-Led\\n</span>\\n<span class=\\'footer-block-left\\'>\\n$59\\n</span>\\n</div>\\n</div>\\n</div>\\n<div class=\\'card-container\\'>\\n<div class=\\'card card-course\\'>\\n<a class=\"card-img-link\" href=\"/training/courses/data-science-for-sports-injuries-using-r-python-and-weka\"><img src=\"https://experfy.s3.amazonaws.com/uploads/course/cover/4/9255a5b4e3.png\" alt=\"9255a5b4e3\" />\\n</a><div class=\\'card-block\\'>\\n<p class=\\'card-heading\\'>\\n<a href=\"/training/tracks/data-analyst-training-certification\">Data Analyst</a>\\n</p>\\n<h5 class=\\'card-title\\'>\\n<a href=\"/training/courses/data-science-for-sports-injuries-using-r-python-and-weka\">Data Science for Sports Injuries Using R, Python, and Weka</a>\\n</h5>\\n<p class=\\'card-subheading\\'>\\nStylianos Kampakis\\n</p>\\n</div>\\n<div class=\\'card-footer\\'>\\n<span class=\\'footer-block-right\\'>\\nSelf-Paced, Instructor-Led\\n</span>\\n<span class=\\'footer-block-left\\'>\\n$499\\n</span>\\n</div>\\n</div>\\n</div>\\n<div class=\\'card-container\\'>\\n<div class=\\'card card-course\\'>\\n<a class=\"card-img-link\" href=\"/training/courses/getting-started-with-apache-cassandra\"><img src=\"https://experfy.s3.amazonaws.com/uploads/course/cover/60/935d4bc19f.png\" alt=\"935d4bc19f\" />\\n</a><div class=\\'card-block\\'>\\n<p class=\\'card-heading\\'>\\n<a href=\"/training/tracks/big-data-training-certification\">Big Data</a>\\n</p>\\n<h5 class=\\'card-title\\'>\\n<a href=\"/training/courses/getting-started-with-apache-cassandra\">Getting Started with Apache Cassandra</a>\\n</h5>\\n<p class=\\'card-subheading\\'>\\nAaron Ploetz\\n</p>\\n</div>\\n<div class=\\'card-footer\\'>\\n<span class=\\'footer-block-right\\'>\\nSelf-Paced\\n</span>\\n<span class=\\'footer-block-left\\'>\\n$99\\n</span>\\n</div>\\n</div>\\n</div>\\n<div class=\\'card-container\\'>\\n<div class=\\'card card-course\\'>\\n<a class=\"card-img-link\" href=\"/training/courses/insurance-analytics-training\"><img src=\"https://experfy.s3.amazonaws.com/uploads/course/cover/85/2d8be5ffe5.png\" alt=\"2d8be5ffe5\" />\\n</a><div class=\\'card-block\\'>\\n<p class=\\'card-heading\\'>\\n<a href=\"/training/tracks/big-data-training-certification\">Big Data</a>, <a href=\"/training/tracks/data-science-in-financial-services-training-certification\">Industry Track (Banking, Finance, and Insurance)</a>, <a href=\"/training/tracks/big-data-iot-executive-training\">Executive Track</a>\\n</p>\\n<h5 class=\\'card-title\\'>\\n<a href=\"/training/courses/insurance-analytics-training\">Insurance Analytics Training</a>\\n</h5>\\n<p class=\\'card-subheading\\'>\\nAjay Bhargava\\n</p>\\n</div>\\n<div class=\\'card-footer\\'>\\n<span class=\\'footer-block-right\\'>\\nInstructor-Led\\n</span>\\n<span class=\\'footer-block-left\\'>\\n$185\\n</span>\\n</div>\\n</div>\\n</div>\\n<div class=\\'card-container\\'>\\n<div class=\\'card card-course\\'>\\n<a class=\"card-img-link\" href=\"/training/courses/supply-chain-optimization-analyst-training\"><img src=\"https://experfy.s3.amazonaws.com/uploads/course/cover/15/235943b9e8.png\" alt=\"235943b9e8\" />\\n</a><div class=\\'card-block\\'>\\n<p class=\\'card-heading\\'>\\n<a href=\"/training/tracks/operations-analytics-training-certification\">Operations Analytics </a>, <a href=\"/training/tracks/big-data-training-certification\">Big Data</a>, <a href=\"/training/tracks/data-analyst-training-certification\">Data Analyst</a>\\n</p>\\n<h5 class=\\'card-title\\'>\\n<a href=\"/training/courses/supply-chain-optimization-analyst-training\">Supply Chain Optimization Analyst Training</a>\\n</h5>\\n<p class=\\'card-subheading\\'>\\nWayne Zorn\\n</p>\\n</div>\\n<div class=\\'card-footer\\'>\\n<span class=\\'footer-block-right\\'>\\nSelf-Paced\\n</span>\\n<span class=\\'footer-block-left\\'>\\n$100\\n</span>\\n</div>\\n</div>\\n</div>\\n<div class=\\'card-container\\'>\\n<div class=\\'card card-course\\'>\\n<a class=\"card-img-link\" href=\"/training/courses/probability-and-statistics\"><img src=\"https://experfy.s3.amazonaws.com/uploads/course/cover/74/11e6b371e2.png\" alt=\"11e6b371e2\" />\\n</a><div class=\\'card-block\\'>\\n<p class=\\'card-heading\\'>\\n<a href=\"/training/tracks/data-science-training-certification\">Data Science</a>\\n</p>\\n<h5 class=\\'card-title\\'>\\n<a href=\"/training/courses/probability-and-statistics\">Probability and Statistics for Data Science with R</a>\\n</h5>\\n<p class=\\'card-subheading\\'>\\nMichael Parzen, Kaitlin Hagan\\n</p>\\n</div>\\n<div class=\\'card-footer\\'>\\n<span class=\\'footer-block-right\\'>\\nSelf-Paced\\n</span>\\n<span class=\\'footer-block-left\\'>\\n$299\\n</span>\\n</div>\\n</div>\\n</div>\\n<div class=\\'card-container\\'>\\n<div class=\\'card card-course\\'>\\n<a class=\"card-img-link\" href=\"/training/courses/increase-cross-selling-and-upselling-of-products-and-services\"><img src=\"https://experfy.s3.amazonaws.com/uploads/course/cover/67/f38aeeb409.png\" alt=\"F38aeeb409\" />\\n</a><div class=\\'card-block\\'>\\n<p class=\\'card-heading\\'>\\n<a href=\"/training/tracks/data-science-in-retail-training-and-certification\">Industry Track (Retail)</a>, <a href=\"/training/tracks/marketing-analytics-training-certification\">Marketing &amp; Customer Analytics</a>, <a href=\"/training/tracks/big-data-iot-executive-training\">Executive Track</a>\\n</p>\\n<h5 class=\\'card-title\\'>\\n<a href=\"/training/courses/increase-cross-selling-and-upselling-of-products-and-services\">Increase Cross Selling and Upselling of Products and Services</a>\\n</h5>\\n<p class=\\'card-subheading\\'>\\nAjay Bhargava\\n</p>\\n</div>\\n<div class=\\'card-footer\\'>\\n<span class=\\'footer-block-right\\'>\\nInstructor-Led\\n</span>\\n<span class=\\'footer-block-left\\'>\\n$199\\n</span>\\n</div>\\n</div>\\n</div>\\n<div class=\\'card-container\\'>\\n<div class=\\'card card-course\\'>\\n<a class=\"card-img-link\" href=\"/training/courses/econometric-analysis-methods-and-applications\"><img src=\"https://experfy.s3.amazonaws.com/uploads/course/cover/99/998c46a79b.jpg\" alt=\"998c46a79b\" />\\n</a><div class=\\'card-block\\'>\\n<p class=\\'card-heading\\'>\\n<a href=\"/training/tracks/data-science-training-certification\">Data Science</a>\\n</p>\\n<h5 class=\\'card-title\\'>\\n<a href=\"/training/courses/econometric-analysis-methods-and-applications\">Econometric Analysis: Methods and Applications</a>\\n</h5>\\n<p class=\\'card-subheading\\'>\\nAlan Yang\\n</p>\\n</div>\\n<div class=\\'card-footer\\'>\\n<span class=\\'footer-block-right\\'>\\nSelf-Paced\\n</span>\\n<span class=\\'footer-block-left\\'>\\n$299\\n</span>\\n</div>\\n</div>\\n</div>\\n<div class=\\'card-container\\'>\\n<div class=\\'card card-course\\'>\\n<a class=\"card-img-link\" href=\"/training/courses/adopting-hadoop-for-the-enterprise-from-strategy-to-roadmap\"><img src=\"https://experfy.s3.amazonaws.com/uploads/course/cover/154/a9423caa62.jpg\" alt=\"A9423caa62\" />\\n</a><div class=\\'card-block\\'>\\n<p class=\\'card-heading\\'>\\n<a href=\"/training/tracks/big-data-training-certification\">Big Data</a>, <a href=\"/training/tracks/business-intelligence-training-certification\">Business Intelligence</a>, <a href=\"/training/tracks/big-data-iot-executive-training\">Executive Track</a>\\n</p>\\n<h5 class=\\'card-title\\'>\\n<a href=\"/training/courses/adopting-hadoop-for-the-enterprise-from-strategy-to-roadmap\">Adopting Hadoop for the Enterprise: From Strategy to Roadmap</a>\\n</h5>\\n<p class=\\'card-subheading\\'>\\nCraig Jordan\\n</p>\\n</div>\\n<div class=\\'card-footer\\'>\\n<span class=\\'footer-block-right\\'>\\nSelf-Paced\\n</span>\\n<span class=\\'footer-block-left\\'>\\n$110\\n</span>\\n</div>\\n</div>\\n</div>\\n<div class=\\'card-container\\'>\\n<div class=\\'card card-course\\'>\\n<a class=\"card-img-link\" href=\"/training/courses/iot-for-executives\"><img src=\"https://experfy.s3.amazonaws.com/uploads/course/cover/26/c97f743be2.png\" alt=\"C97f743be2\" />\\n</a><div class=\\'card-block\\'>\\n<p class=\\'card-heading\\'>\\n<a href=\"/training/tracks/internet-of-things-training-certification\">Internet of Things</a>, <a href=\"/training/tracks/big-data-iot-executive-training\">Executive Track</a>\\n</p>\\n<h5 class=\\'card-title\\'>\\n<a href=\"/training/courses/iot-for-executives\">IoT for Executives</a>\\n</h5>\\n<p class=\\'card-subheading\\'>\\nMats  Samuelsson\\n</p>\\n</div>\\n<div class=\\'card-footer\\'>\\n<span class=\\'footer-block-right\\'>\\nInstructor-Led\\n</span>\\n<span class=\\'footer-block-left\\'>\\n$599\\n</span>\\n</div>\\n</div>\\n</div>\\n<div class=\\'card-container\\'>\\n<div class=\\'card card-course\\'>\\n<a class=\"card-img-link\" href=\"/training/courses/implementing-an-internet-of-things-iot-business\"><img src=\"https://experfy.s3.amazonaws.com/uploads/course/cover/27/80b5afd61c.png\" alt=\"80b5afd61c\" />\\n</a><div class=\\'card-block\\'>\\n<p class=\\'card-heading\\'>\\n<a href=\"/training/tracks/internet-of-things-training-certification\">Internet of Things</a>, <a href=\"/training/tracks/big-data-iot-executive-training\">Executive Track</a>\\n</p>\\n<h5 class=\\'card-title\\'>\\n<a href=\"/training/courses/implementing-an-internet-of-things-iot-business\">Implementing an Internet of Things (IoT) Business </a>\\n</h5>\\n<p class=\\'card-subheading\\'>\\nMats  Samuelsson\\n</p>\\n</div>\\n<div class=\\'card-footer\\'>\\n<span class=\\'footer-block-right\\'>\\nInstructor-Led\\n</span>\\n<span class=\\'footer-block-left\\'>\\n$599\\n</span>\\n</div>\\n</div>\\n</div>\\n</div>\\n</div>\\n\\n</section>\\n<section class=\\'home-channel\\'>\\n<div class=\\'channel-heading\\'>\\n<div class=\\'channel-heading-container\\'>\\n<h2>Channel</h2>\\n<h3>From a Single Platform</h3>\\n<ul>\\n<li>Curate highly specialized talet pools in your own markeplace</li>\\n<li>Generate leads for your products and services</li>\\n<li>Educate prospects, clients and partners through online training</li>\\n</ul>\\n</div>\\n</div>\\n<div class=\\'channel-features-container\\'>\\n<div class=\\'channel-features\\'>\\n<div class=\\'channel-features-class section-features-tabs\\'>\\n<div class=\\'features-tabs\\'>\\n<ul class=\\'nav nav-tabs\\'>\\n<li class=\\'active\\'>\\n<a aria-controls=\\'channel_marketplace\\' data-target=\\'#channel_marketplace\\' data-toggle=\\'tab\\' href=\\'#channel_marketplace\\' role=\\'tab\\'>\\nTalent Markeplace As a Service\\n</a>\\n</li>\\n<li>\\n<a aria-controls=\\'channel_products\\' data-target=\\'#channel_products\\' data-toggle=\\'tab\\' href=\\'#channel_products\\' role=\\'tab\\'>\\nPromote Your Products\\n</a>\\n</li>\\n<li>\\n<a aria-controls=\\'channel_training\\' data-target=\\'#channel_training\\' data-toggle=\\'tab\\' href=\\'#channel_training\\' role=\\'tab\\'>\\nTraining Platform as a Service\\n</a>\\n</li>\\n</ul>\\n</div>\\n<div class=\\'features-tab-content tab-content\\'>\\n<div class=\\'tab-pane active\\' id=\\'channel_marketplace\\'>\\n<p>Experfy offers the only cloud-based talent platform that enables you to create your own private marketplace.  Companies can curate highly specialized talent pools with advanced functionality such a video profiles; bidding; payment processing; time tracking video  interviews, rating and reviews</p>\\n<ul>\\n<li>Talent Search and Video Profiles</li>\\n<li>Vetting and Curation</li>\\n<li>Customizable Taxonomy</li>\\n<li>Projects Marketplace</li>\\n<li>Bidding Platform</li>\\n<li>API</li>\\n</ul>\\n<a class=\\'btn btn-bordered btn-bordered-tertiary btn-md btn-md-arrow\\' href=\\'/channels#talent_markeplace_as_service\\'>\\n<div class=\\'btn-arrow btn-arrow-right\\'>\\n<span class=\\'btn-label\\'>Learn More</span>\\n<span class=\\'btn-arrow-icon\\'></span>\\n</div>\\n</a>\\n</div>\\n<div class=\\'tab-pane\\' id=\\'channel_products\\'>\\n<p class=\\'is-visible\\'>Promote Your Products and service to people that matter through product Showcase</p>\\n<ul class=\\'is-visible\\'>\\n<li>Market Your Products</li>\\n<li>Build Brand Awareness</li>\\n<li>Attract Users</li>\\n</ul>\\n<a class=\\'btn btn-bordered btn-bordered-tertiary btn-md btn-md-arrow is-visible\\' href=\\'/channels#promote_your_products\\'>\\n<div class=\\'btn-arrow btn-arrow-right\\'>\\n<span class=\\'btn-label\\'>Learn More</span>\\n<span class=\\'btn-arrow-icon\\'></span>\\n</div>\\n</a>\\n</div>\\n<div class=\\'tab-pane\\' id=\\'channel_training\\'>\\n<p class=\\'is-visible\\'>Quickly create courses with your content or work with Experfy to create your training content.  Easily communicate information about your company and products to the the right people. Allow training only to your selected customers, employees, partners and prospects.</p>\\n<p class=\\'is-visible\\'>Provide employees with access to your own training and large number of courses available in Experfy ecosystem.</p>\\n<p class=\\'is-visible\\'>Train thousands of customer & partners, on-demand, at anytime, from anywhere.</p>\\n<a class=\\'btn btn-bordered btn-bordered-tertiary btn-md btn-md-arrow is-visible\\' href=\\'/channels#training_platform_as_service\\'>\\n<div class=\\'btn-arrow btn-arrow-right\\'>\\n<span class=\\'btn-label\\'>Learn More</span>\\n<span class=\\'btn-arrow-icon\\'></span>\\n</div>\\n</a>\\n</div>\\n</div>\\n</div>\\n</div>\\n</div>\\n\\n</section>\\n<section class=\\'home-about\\'>\\n<div class=\\'home-about-container\\'>\\n<h2>Learn More about Experfy</h2>\\n<div class=\\'home-videos\\'>\\n<div class=\\'home-video\\'>\\n<a data-video-link=\\'https://player.vimeo.com/video/87819691?autoplay=1&amp;title=0&amp;byline=0&amp;portrait=0\\'>\\n<div class=\\'home-video-cover\\' style=\\'background: url(https://www.experfy.com/assets/video_cover_1-0d191650dbe0a2aaf3caf58cae569556c13c103c83617bb0dc782acfa159dc05.png) center center / cover no-repeat\\'></div>\\n<div class=\\'home-video-heading\\'>\\n<div class=\\'home-video-play\\'>\\n<i class=\\'fa fa-play fa-lg\\'></i>\\n</div>\\n<div class=\\'home-video-legend home-video-legend-odd\\'>How the Marketplace Works?</div>\\n</div>\\n</a>\\n</div>\\n<div class=\\'home-video\\'>\\n<a data-video-link=\\'https://player.vimeo.com/video/165447872?autoplay=1&amp;title=0&amp;byline=0&amp;portrait=0\\'>\\n<div class=\\'home-video-cover\\' style=\\'background: url(https://www.experfy.com/assets/video_cover_2-63d1c7e0c3abebba5a4e2755729e56c122801e37908f764a278ccb19f75294b8.png) center center / cover no-repeat\\'></div>\\n<div class=\\'home-video-heading\\'>\\n<div class=\\'home-video-play\\'>\\n<i class=\\'fa fa-play fa-lg\\'></i>\\n</div>\\n<div class=\\'home-video-legend\\'>Learn From the Best: Meet Our Instructors</div>\\n</div>\\n</a>\\n</div>\\n<div class=\\'home-video\\'>\\n<a data-video-link=\\'https://player.vimeo.com/video/85543700?autoplay=1&amp;title=0&amp;byline=0&amp;portrait=0\\'>\\n<div class=\\'home-video-cover\\' style=\\'background: url(https://www.experfy.com/assets/video_cover_3-30d7fafccc3e7ed6d5349b65050b4576bd01a6897ac48ac7471f17f2b235d089.png) center center / cover no-repeat\\'></div>\\n<div class=\\'home-video-heading\\'>\\n<div class=\\'home-video-play\\'>\\n<i class=\\'fa fa-play fa-lg\\'></i>\\n</div>\\n<div class=\\'home-video-legend\\'>It\\'s All About the right Toolset, Mindset, Skillset & Dataset</div>\\n</div>\\n</a>\\n</div>\\n</div>\\n</div>\\n\\n</section>\\n<section class=\\'home-credentials\\'>\\n<div class=\\'home-credentials-container\\'>\\n<div class=\\'quotation-mark\\'></div>\\n<h3>Don\\'t Just Take Our Word For It</h3>\\n<p class=\\'quote\\'>\"Today\\'s hottest companies are all data-driven. The Experfy team has developed an ecosystem that allows business and highly qualified data scientists to connect and develop powerful algorithms that can deliver 10x or 100x performance and growth. Watch this company closely.\"</p>\\n<p class=\\'author\\'>Peter Diamandis</p>\\n<p class=\\'author-title\\'>Chairman & CEO, XPRIZE, Forbes 50 World Leader List</p>\\n</div>\\n<div class=\\'newsletters\\'>\\n<div class=\\'newsletter\\'>\\n<a href=\\'http://bigdata.cioreview.com/news/experfy-assists-firms-in-talent-acquisition-nid-1243-cid-15.html\\' target=\\'_blank\\'>\\n<img src=\"https://www.experfy.com/assets/p-cior-80893ac0f07d1fd332339839b766f36478ed8d323bc6815dbb927090f4eb91bc.png\" alt=\"P cior\" />\\n</a>\\n</div>\\n<div class=\\'newsletter\\'>\\n<a href=\\'http://techcrunch.com/2014/03/31/harvard-backed-experfy-wants-to-create-a-mckinsey-in-the-cloud-for-big-data-talent/\\' target=\\'_blank\\'>\\n<img src=\"https://www.experfy.com/assets/p-techcrunch-d26358ef9e37e765e717bf08c5b044f61bca7d8ded2fb3ec7a3df48ca2d0fd2e.png\" alt=\"P techcrunch\" />\\n</a>\\n</div>\\n<div class=\\'newsletter\\'>\\n<a href=\\'http://www.forbes.com/sites/alexkonrad/2014/03/31/experfy-launches-to-matchmake-top-data-talent/\\' target=\\'_blank\\'>\\n<img src=\"https://www.experfy.com/assets/p-forbes-b33b7add5d9e26a32e3f2d23324e7621b1f5c5ad742bb17409ef4b92c297e7fb.png\" alt=\"P forbes\" />\\n</a>\\n</div>\\n<div class=\\'newsletter\\'>\\n<a href=\\'http://mashable.com/2014/04/26/experfy/\\' target=\\'_blank\\'>\\n<img src=\"https://www.experfy.com/assets/p-mashable-7bd2b22d8b6a832f8b1d7ac59b23b4ea80920939ff54e61702fbc5987e6b6c42.png\" alt=\"P mashable\" />\\n</a>\\n</div>\\n<div class=\\'newsletter\\'>\\n<a href=\\'http://www.betaboston.com/news/2014/08/15/five-promising-startups-from-the-harvard-innovation-lab-demo-day/\\' target=\\'_blank\\'>\\n<img src=\"https://www.experfy.com/assets/p-betaboston-f1039545d8f4fc0e29a001f3159815bd893825431c9446505eaab18a945bd8cb.png\" alt=\"P betaboston\" />\\n</a>\\n</div>\\n<div class=\\'newsletter\\'>\\n<a href=\\'http://www.techrepublic.com/article/hire-big-data-analysts-through-experfys-auctions-to-keep-project-costs-down/\\' target=\\'_blank\\'>\\n<img src=\"https://www.experfy.com/assets/p-techrepublic-89f5b55b9c1d6234ba42ab322919da4b50de39124cd1b2f2dfdcdcda4a9d3aa3.png\" alt=\"P techrepublic\" />\\n</a>\\n</div>\\n</div>\\n\\n</section>\\n<section class=\\'extended-footer\\'>\\n<div class=\\'footer-banner-overlay\\'>\\n<div class=\\'banner-box\\'>\\n<div class=\\'banner-box-block banner-box-image\\'>\\n<img src=\"https://www.experfy.com/assets/boston_city_bkg-f3f12ce326e8fd5e89bcd0565204a6ba4bd5a036910822a6c7476fbaa6fe9956.png\" alt=\"Boston city bkg\" />\\n</div>\\n<div class=\\'banner-box-block banner-box-body\\'>\\n<h3>Made in Boston @</h3>\\n<h2>\\nThe Harvard\\n<br>\\nInnovation Lab\\n</h2>\\n</div>\\n<div class=\\'banner-box-block banner-box-action\\'>\\n<!-- %a.btn.btn-secondary.btn-md{href: \"#\"} Register Now -->\\n</div>\\n</div>\\n</div>\\n\\n</section>\\n<div aria-hidden=\\'true\\' class=\\'modal home-video-modal fade\\' id=\\'video_modal\\' role=\\'dialog\\' tabindex=\\'-1\\'>\\n<div class=\\'modal-dialog\\'>\\n<div class=\\'modal-content\\'>\\n<div class=\\'modal-body\\'>\\n<button aria-hidden=\\'true\\' class=\\'close\\' data-dismiss=\\'modal\\' type=\\'button\\'>×</button>\\n<iframe allowfullscreen=\\'\\' frameborder=\\'0\\' id=\\'home-video-frame\\' mozallowfullscreen=\\'\\' src=\\'\\' webkitallowfullscreen=\\'\\'></iframe>\\n</div>\\n</div>\\n</div>\\n</div>\\n\\n\\n</div>\\n<div class=\\'event-messages\\'>\\n<div class=\\'alert alert-success center alert-dismissable ajax-success-handling\\'></div>\\n<div class=\\'alert alert-warning alert-box alert-dismissable center ajax-error-handling\\'></div>\\n</div>\\n\\n<div class=\\'footer\\'>\\n<div class=\\'footer-container\\'>\\n<div class=\\'footer-group footer-group-left\\'>\\n<div class=\\'footer-block\\'>\\n<h3>About</h3>\\n<ul>\\n<li>\\n<a href=\\'/about\\'>About Us</a>\\n</li>\\n<li>\\n<a href=\\'/terms\\'>Terms of Service</a>\\n</li>\\n<li>\\n<a href=\\'/privacy\\'>Privacy Policy</a>\\n</li>\\n</ul>\\n</div>\\n<div class=\\'footer-block\\'>\\n<h3>Offerings</h3>\\n<ul>\\n<li>\\n<a class=\"footer-link\" href=\"/training/courses\">Browse Courses</a>\\n</li>\\n<li>\\n<a class=\"footer-link\" href=\"/training/business\">Corporate Training</a>\\n</li>\\n<li>\\n<a class=\\'footer-link\\' data-gae-action=\\'New project\\' data-gae-category=\\'Project\\' data-gae-label=\\'from footer\\' data-mixpanel-event=\\'Start a Project\\' data-mixpanel-location=\\'Footer\\' data-no-turbolink href=\\'/short-term-projects/?anchor=new#/new\\'>Post a Project</a>\\n</li>\\n<li>\\n<a class=\"footer-link\" href=\"/recruit\">Experfy Recruit</a>\\n</li>\\n<li>\\n<a class=\"footer-link\" href=\"/training/instructors\">Become an Instructor</a>\\n</li>\\n</ul>\\n</div>\\n<div class=\\'footer-block\\'>\\n<h3>Support</h3>\\n<ul>\\n<li>\\n<a class=\"footer-link\" href=\"/training/guides\">Guidelines for Instructors</a>\\n</li>\\n<li>\\n<a class=\"footer-link\" href=\"/training/instructors\">Suggest a Course</a>\\n</li>\\n</ul>\\n</div>\\n<!-- .footer-block -->\\n<!-- %h3 Community -->\\n<!-- %ul -->\\n<!-- %li -->\\n<!-- %a{href: \"/blog\"} Blog -->\\n<!-- %li -->\\n<!-- %a{:href => (current_user ? \"https://data.experfy.com/session/sso\" : \"https://data.experfy.com\")} Data Discourse -->\\n</div>\\n<div class=\\'footer-group footer-group-right\\'>\\n<div class=\\'footer-block\\'>\\n<h3>Contact Us</h3>\\n<p>\\nHarvard Innovation Launch Lab\\n<br>\\n114 Western Ave, Boston, MA 02134\\n</p>\\n<p>Email: support@experfy.com</p>\\n<p>\\nToll Free: (844) EXPERFY or\\n<br>\\n<span>\\n(844) 397-3739\\n</span>\\n</p>\\n</div>\\n<div class=\\'footer-block\\'>\\n<h3>Stay in Touch</h3>\\n<div class=\\'footer-socials\\'>\\n<a href=\\'https://www.linkedin.com/company/3513709\\' target=\\'_blank\\'>\\n<i class=\\'fa fa-linkedin fa-lg\\'></i>\\n</a>\\n<a href=\\'https://www.facebook.com/experfy\\' target=\\'_blank\\'>\\n<i class=\\'fa fa-facebook fa-lg\\'></i>\\n</a>\\n<a href=\\'https://twitter.com/experfy\\' target=\\'_blank\\'>\\n<i class=\\'fa fa-twitter fa-lg\\'></i>\\n</a>\\n</div>\\n<a href=\\'https://mixpanel.com/f/partner\\' target=\\'_blank\\'>\\n<img alt=\\'Mobile Analytics\\' src=\\'//cdn.mxpnl.com/site_media/images/partner/badge_light.png\\'>\\n</a>\\n</div>\\n</div>\\n</div>\\n\\n<!-- - if params[:controller] == \\'pages\\' || params[:controller] == \\'courses\\' || params[:controller] == \\'practice_areas\\' || params[:controller] == \\'success_stories\\' -->\\n<!-- = render \"shared/footer\" -->\\n<!-- - else -->\\n<!-- = render \"shared/footer_app\" -->\\n</div>\\n</div>\\n\\n<div class=\\'hidden\\' id=\\'mixpanel_identity_user_id\\'></div>\\n\\n\\n<div class=\\'loading-spinner-box\\'>\\n<img src=\"https://www.experfy.com/assets/350-ea8c60e6cd96cfecc3dd3d614a923112e8b7b1cee67dbb73c41c16cebb619f5b.GIF\" alt=\"350\" />\\n</div>\\n<div class=\\'matching-providers-loader\\'>\\n<p>\\nMatching Providers\\n</p>\\n<img src=\"https://www.experfy.com/assets/matching_providers_2-0597e3a9dbb43a8830cc8c60735ae5edf9d496ced11bb852737fe8b1ceb7ddc0.GIF\" alt=\"Matching providers 2\" />\\n</div>\\n<div aria-hidden=\\'true\\' aria-labelledby=\\'myModalLabel\\' class=\\'modal modal-type-1 modal-account fade\\' id=\\'sign_up_modal\\' role=\\'dialog\\' tabindex=\\'-1\\'>\\n<div class=\\'modal-dialog\\'>\\n<div class=\\'modal-content\\'>\\n<div class=\\'modal-header\\'>\\n<button aria-hidden=\\'true\\' class=\\'close\\' data-dismiss=\\'modal\\' type=\\'button\\'>×</button>\\n<h4 class=\\'modal-title\\'>Sign Up</h4>\\n</div>\\n<div class=\\'modal-body\\'>\\n<a class=\\'btn-linkedin\\' href=\\'/users/auth/linkedin\\'>\\n<ul class=\\'list-unstyled\\'>\\n<li>\\n<i class=\\'fa fa-linkedin\\'></i>\\n</li>\\n<li>\\nSign Up with LinkedIn\\n</li>\\n</ul>\\n</a>\\n<div class=\\'clearfix\\'></div>\\n<hr>\\n<h3 class=\\'or-inline\\'>\\nOr\\n</h3>\\n<a class=\\'btn btn-green btn-full-width\\' data-target=\\'#form_collapse_sign_up\\' data-toggle=\\'collapse\\'>\\nSign Up with Email\\n</a>\\n<div class=\\'modal-form collapse\\' id=\\'form_collapse_sign_up\\'>\\n<form class=\"new_user_form\" id=\"new_user\" action=\"www.google.com\" accept-charset=\"UTF-8\" method=\"post\"><input name=\"utf8\" type=\"hidden\" value=\"&#x2713;\" /><input type=\"hidden\" name=\"authenticity_token\" value=\"EwaHEROwFH5O26a8Dr9X3uvmzgb8xkcJckE0diZ4kynx6GxZu1XgZl8wVud8mg9ZehD8OBgk05TVF1lzoAKE0Q==\" />\\n<input value=\"false\" type=\"hidden\" name=\"user[discourse_type]\" id=\"user_discourse_type\" />\\n<input placeholder=\"First Name\" class=\"form-control\" type=\"text\" name=\"user[first_name]\" id=\"user_first_name\" />\\n<input placeholder=\"Last Name\" class=\"form-control\" type=\"text\" name=\"user[last_name]\" id=\"user_last_name\" />\\n<input placeholder=\"Email Address\" class=\"form-control\" type=\"email\" value=\"\" name=\"user[email]\" id=\"user_email\" />\\n<input placeholder=\"Password\" class=\"form-control\" type=\"password\" name=\"user[password]\" id=\"user_password\" />\\n<input placeholder=\"Confirm Password\" class=\"form-control\" type=\"password\" name=\"user[password_confirmation]\" id=\"user_password_confirmation\" />\\n<input type=\"submit\" name=\"commit\" value=\"Sign Up\" class=\"btn btn-green btn-full-width\" data-loading-text=\"Processing ...\" data-disable-with=\"Sign Up\" />\\n</form>\\n</div>\\n<p class=\\'modal-subtext-type-1\\'>\\nBy Signing up, you confirm that you accept the\\n<a href=\\'#\\'>\\nTerms of Service\\n</a>\\nand\\n<a href=\\'#\\'>\\nPrivacy Policy\\n</a>\\n.\\n</p>\\n</div>\\n<div class=\\'modal-footer\\'>\\nAlready an Experfy member?\\n<a class=\\'modal-jump\\' data-current=\\'#sign_up_modal\\' data-dismiss=\\'modal\\' data-target=\\'#login_modal\\' data-toggle=\\'modal\\'>\\nLog in\\n</a>\\n</div>\\n</div>\\n</div>\\n</div>\\n\\n<div aria-hidden=\\'true\\' aria-labelledby=\\'myModalLabel\\' class=\\'modal modal-type-1 modal-account fade\\' id=\\'login_modal\\' role=\\'dialog\\' tabindex=\\'-1\\'>\\n<div class=\\'modal-dialog\\'>\\n<div class=\\'modal-content\\'>\\n<div class=\\'modal-header\\'>\\n<button aria-hidden=\\'true\\' class=\\'close\\' data-dismiss=\\'modal\\' type=\\'button\\'>×</button>\\n<h4 class=\\'modal-title\\'>Log In</h4>\\n</div>\\n<div class=\\'modal-body\\'>\\n<a class=\\'btn-linkedin\\' href=\\'/users/auth/linkedin\\'>\\n<ul class=\\'list-unstyled\\'>\\n<li>\\n<i class=\\'fa fa-linkedin\\'></i>\\n</li>\\n<li>\\nLog In with LinkedIn\\n</li>\\n</ul>\\n</a>\\n<div class=\\'clearfix\\'></div>\\n<hr>\\n<h3 class=\\'or-inline\\'>\\nOr\\n</h3>\\n<a class=\\'btn btn-green btn-full-width\\' data-target=\\'#form_collapse_log_in\\' data-toggle=\\'collapse\\'>\\nLog In with Email\\n</a>\\n<div class=\\'modal-form collapse\\' id=\\'form_collapse_log_in\\'>\\n<form class=\"new_user\" id=\"new_user\" action=\"/users/sign_in\" accept-charset=\"UTF-8\" method=\"post\"><input name=\"utf8\" type=\"hidden\" value=\"&#x2713;\" /><input type=\"hidden\" name=\"authenticity_token\" value=\"Zdl1/lAojYYHS0/ndwRxWVQfV7cu7T6kpfNYBorgGy2HN562+M15nhagv7wFISnexellicoPqjkCpTUDDJoM1Q==\" /><input placeholder=\"Email Address\" class=\"form-control\" type=\"email\" value=\"\" name=\"user[email]\" id=\"user_email\" />\\n<input placeholder=\"Password\" class=\"form-control\" type=\"password\" name=\"user[password]\" id=\"user_password\" />\\n<div class=\\'checkbox\\'>\\n<label>\\n<input name=\"user[remember_me]\" type=\"hidden\" value=\"0\" /><input type=\"checkbox\" value=\"1\" name=\"user[remember_me]\" id=\"user_remember_me\" />\\nRemember me\\n</label>\\n</div>\\n<input type=\"submit\" name=\"commit\" value=\"Sign in\" class=\"btn btn-green btn-full-width\" data-loading-text=\"Processing ...\" data-disable-with=\"Sign in\" />\\n</form>\\n<p class=\\'modal-subtext-type-1\\'>\\n<a href=\\'/users/password/new\\'>\\nForgot your password\\n</a>\\n</p>\\n</div>\\n</div>\\n<div class=\\'modal-footer\\'>\\nDon\\'t have an Experfy account?\\n<a class=\\'modal-jump\\' data-current=\\'#login_modal\\' data-dismiss=\\'modal\\' data-target=\\'#sign_up_modal\\' data-toggle=\\'modal\\'>\\nSign Up\\n</a>\\n</div>\\n</div>\\n</div>\\n</div>\\n\\n<script id=\\'template-upload\\' type=\\'text/x-tmpl\\'>\\n<li class=\\'clearfix upload\\'>\\n<div class=\\'progress progress-warning\\'>\\n<div class=\\'bar\\' style=\\'width:0%\\'></div>\\n</div>\\n</li>\\n</script>\\n<script id=\\'template-download\\' type=\\'text/x-tmpl\\'>\\n<li class=\\'clearfix upload\\'>\\n<div class=\\'progress progress-warning\\'>\\n<div class=\\'bar\\' style=\\'width:0%\\'></div>\\n</div>\\n</li>\\n</script>\\n<script type=\"text/javascript\">\\n  window.$_Tawk = undefined; \\n  var Tawk_API=Tawk_API||{}, Tawk_LoadStart=new Date();\\n  (function(){\\n  var s1=document.createElement(\"script\"),s0=document.getElementsByTagName(\"script\")[0];\\n  s1.async=true;\\n  s1.src=\\'https://embed.tawk.to/57868c0c3c131eba49ad61a6/default\\';\\n  s1.charset=\\'UTF-8\\';\\n  s1.setAttribute(\\'crossorigin\\',\\'*\\');\\n  s0.parentNode.insertBefore(s1,s0);\\n  })();\\n</script>\\n<!-- Google Tag Manager (noscript) -->\\n<noscript><iframe src=\"https://www.googletagmanager.com/ns.html?id=GTM-TTTRFW\"\\nheight=\"0\" width=\"0\" style=\"display:none;visibility:hidden\"></iframe></noscript>\\n<!-- End Google Tag Manager (noscript) -->\\n\\n</body>\\n</html>\\n'"
      ]
     },
     "execution_count": 10,
     "metadata": {},
     "output_type": "execute_result"
    }
   ],
   "source": [
    "data"
   ]
  },
  {
   "cell_type": "code",
   "execution_count": 15,
   "metadata": {
    "collapsed": false
   },
   "outputs": [
    {
     "name": "stderr",
     "output_type": "stream",
     "text": [
      "C:\\ProgramData\\Miniconda3\\lib\\site-packages\\bs4\\__init__.py:181: UserWarning: No parser was explicitly specified, so I'm using the best available HTML parser for this system (\"html5lib\"). This usually isn't a problem, but if you run this code on another system, or in a different virtual environment, it may use a different parser and behave differently.\n",
      "\n",
      "The code that caused this warning is on line 193 of the file C:\\ProgramData\\Miniconda3\\lib\\runpy.py. To get rid of this warning, change code that looks like this:\n",
      "\n",
      " BeautifulSoup([your markup])\n",
      "\n",
      "to this:\n",
      "\n",
      " BeautifulSoup([your markup], \"html5lib\")\n",
      "\n",
      "  markup_type=markup_type))\n"
     ]
    }
   ],
   "source": [
    "soup = bs4.BeautifulSoup(data)"
   ]
  },
  {
   "cell_type": "code",
   "execution_count": 18,
   "metadata": {
    "collapsed": false
   },
   "outputs": [
    {
     "ename": "TypeError",
     "evalue": "get() got an unexpected keyword argument 'role'",
     "output_type": "error",
     "traceback": [
      "\u001b[1;31m---------------------------------------------------------------------------\u001b[0m",
      "\u001b[1;31mTypeError\u001b[0m                                 Traceback (most recent call last)",
      "\u001b[1;32m<ipython-input-18-e3059052d507>\u001b[0m in \u001b[0;36m<module>\u001b[1;34m()\u001b[0m\n\u001b[0;32m      1\u001b[0m \u001b[1;32mfor\u001b[0m \u001b[0mlink\u001b[0m \u001b[1;32min\u001b[0m \u001b[0msoup\u001b[0m\u001b[1;33m.\u001b[0m\u001b[0mfind_all\u001b[0m\u001b[1;33m(\u001b[0m\u001b[1;34m'a'\u001b[0m\u001b[1;33m)\u001b[0m\u001b[1;33m:\u001b[0m\u001b[1;33m\u001b[0m\u001b[0m\n\u001b[1;32m----> 2\u001b[1;33m     \u001b[0mprint\u001b[0m\u001b[1;33m(\u001b[0m\u001b[0mlink\u001b[0m\u001b[1;33m.\u001b[0m\u001b[0mget\u001b[0m\u001b[1;33m(\u001b[0m\u001b[0mrole\u001b[0m\u001b[1;33m=\u001b[0m\u001b[1;34m'tab'\u001b[0m\u001b[1;33m)\u001b[0m\u001b[1;33m)\u001b[0m\u001b[1;33m\u001b[0m\u001b[0m\n\u001b[0m",
      "\u001b[1;31mTypeError\u001b[0m: get() got an unexpected keyword argument 'role'"
     ]
    }
   ],
   "source": [
    "for link in soup.find_all('a'):\n",
    "    print(link.get(role='tab'))"
   ]
  },
  {
   "cell_type": "code",
   "execution_count": 19,
   "metadata": {
    "collapsed": false
   },
   "outputs": [
    {
     "data": {
      "text/plain": [
       "[<a aria-controls=\"practice_area\" data-toggle=\"tab\" href=\"#practice_area\" role=\"tab\">\n",
       " By Practice Area\n",
       " </a>,\n",
       " <a aria-controls=\"technology\" data-toggle=\"tab\" href=\"#technology\" role=\"tab\">\n",
       " By Technology\n",
       " </a>,\n",
       " <a aria-controls=\"Customer Analytics\" data-toggle=\"tab\" href=\"#customer_analytics\" role=\"tab\">\n",
       " <span class=\"marketplace-item-icon\">\n",
       " <img alt=\"Pa icon 1\" src=\"https://www.experfy.com/assets/practice_area_icons/pa_icon_1-3b08be280a8585e9c1c01ea63c2131884048c687da3d69f6e58fb7d050483f46.png\"/>\n",
       " <!-- %img{ src: asset_path(\"images/pa_icon_\" + pa.id.to_s + \".png\") } -->\n",
       " </span>\n",
       " Customer Analytics\n",
       " </a>,\n",
       " <a aria-controls=\"Marketing Analytics\" data-toggle=\"tab\" href=\"#marketing_analytics\" role=\"tab\">\n",
       " <span class=\"marketplace-item-icon\">\n",
       " <img alt=\"Pa icon 2\" src=\"https://www.experfy.com/assets/practice_area_icons/pa_icon_2-1d56f603970aba1406e2b4021083b1a6839e6d474a0f974a00735e5274657cfb.png\"/>\n",
       " <!-- %img{ src: asset_path(\"images/pa_icon_\" + pa.id.to_s + \".png\") } -->\n",
       " </span>\n",
       " Marketing Analytics\n",
       " </a>,\n",
       " <a aria-controls=\"Market Research\" data-toggle=\"tab\" href=\"#market_research\" role=\"tab\">\n",
       " <span class=\"marketplace-item-icon\">\n",
       " <img alt=\"Pa icon 3\" src=\"https://www.experfy.com/assets/practice_area_icons/pa_icon_3-bb2b0f7976f330f7a65e7dc090820f32d70c9a60e6721ceb9145497646d4d58f.png\"/>\n",
       " <!-- %img{ src: asset_path(\"images/pa_icon_\" + pa.id.to_s + \".png\") } -->\n",
       " </span>\n",
       " Market Research\n",
       " </a>,\n",
       " <a aria-controls=\"Web Analytics\" data-toggle=\"tab\" href=\"#web_analytics\" role=\"tab\">\n",
       " <span class=\"marketplace-item-icon\">\n",
       " <img alt=\"Pa icon 4\" src=\"https://www.experfy.com/assets/practice_area_icons/pa_icon_4-567d8fcfed4a482554b4866ba25ca2f3d8c7d0d96a22df3404c80e24850efa21.png\"/>\n",
       " <!-- %img{ src: asset_path(\"images/pa_icon_\" + pa.id.to_s + \".png\") } -->\n",
       " </span>\n",
       " Web Analytics\n",
       " </a>,\n",
       " <a aria-controls=\"Social Media &amp; Text Analytics\" data-toggle=\"tab\" href=\"#social_media___text_analytics\" role=\"tab\">\n",
       " <span class=\"marketplace-item-icon\">\n",
       " <img alt=\"Pa icon 5\" src=\"https://www.experfy.com/assets/practice_area_icons/pa_icon_5-4a4fee74fa70660e889b648e85bab6b0f192cbef804e31d0e664a55e77c20727.png\"/>\n",
       " <!-- %img{ src: asset_path(\"images/pa_icon_\" + pa.id.to_s + \".png\") } -->\n",
       " </span>\n",
       " Social Media &amp; Text Analytics\n",
       " </a>,\n",
       " <a aria-controls=\"Pricing &amp; Sales Analytics\" data-toggle=\"tab\" href=\"#pricing___sales_analytics\" role=\"tab\">\n",
       " <span class=\"marketplace-item-icon\">\n",
       " <img alt=\"Pa icon 6\" src=\"https://www.experfy.com/assets/practice_area_icons/pa_icon_6-a8dcfeb0af11afe7e5f21beff1fc91b7f27691c3e9c46b21592988c1aaf1ce56.png\"/>\n",
       " <!-- %img{ src: asset_path(\"images/pa_icon_\" + pa.id.to_s + \".png\") } -->\n",
       " </span>\n",
       " Pricing &amp; Sales Analytics\n",
       " </a>,\n",
       " <a aria-controls=\"Operations\" data-toggle=\"tab\" href=\"#operations\" role=\"tab\">\n",
       " <span class=\"marketplace-item-icon\">\n",
       " <img alt=\"Pa icon 7\" src=\"https://www.experfy.com/assets/practice_area_icons/pa_icon_7-76a811edb2c0f29b11a6eb86b73e6fac246f20a6e852409c0173443151c276cc.png\"/>\n",
       " <!-- %img{ src: asset_path(\"images/pa_icon_\" + pa.id.to_s + \".png\") } -->\n",
       " </span>\n",
       " Operations\n",
       " </a>,\n",
       " <a aria-controls=\"Fraud &amp; Risk\" data-toggle=\"tab\" href=\"#fraud___risk\" role=\"tab\">\n",
       " <span class=\"marketplace-item-icon\">\n",
       " <img alt=\"Pa icon 8\" src=\"https://www.experfy.com/assets/practice_area_icons/pa_icon_8-baa0b37981ba32c0fe44dc1a940d95024df285127bbf6c1969ed074dbb7c7387.png\"/>\n",
       " <!-- %img{ src: asset_path(\"images/pa_icon_\" + pa.id.to_s + \".png\") } -->\n",
       " </span>\n",
       " Fraud &amp; Risk\n",
       " </a>,\n",
       " <a aria-controls=\"Internet of Things\" data-toggle=\"tab\" href=\"#internet_of_things\" role=\"tab\">\n",
       " <span class=\"marketplace-item-icon\">\n",
       " <img alt=\"Pa icon 9\" src=\"https://www.experfy.com/assets/practice_area_icons/pa_icon_9-7b3aebcdf15b2d25022de3b05ab0b3c6b8f6b61a387039f589485c4b7a5ba361.png\"/>\n",
       " <!-- %img{ src: asset_path(\"images/pa_icon_\" + pa.id.to_s + \".png\") } -->\n",
       " </span>\n",
       " Internet of Things\n",
       " </a>,\n",
       " <a aria-controls=\"Visualizations\" data-toggle=\"tab\" href=\"#visualizations\" role=\"tab\">\n",
       " <span class=\"marketplace-item-icon\">\n",
       " <img alt=\"Pa icon 10\" src=\"https://www.experfy.com/assets/practice_area_icons/pa_icon_10-6de44a0b4b4f74a9520f0ae9e627d8914f7feb58872066217e2b4697659954c8.png\"/>\n",
       " <!-- %img{ src: asset_path(\"images/pa_icon_\" + pa.id.to_s + \".png\") } -->\n",
       " </span>\n",
       " Visualizations\n",
       " </a>,\n",
       " <a aria-controls=\"HR Analytics\" data-toggle=\"tab\" href=\"#hr_analytics\" role=\"tab\">\n",
       " <span class=\"marketplace-item-icon\">\n",
       " <img alt=\"Pa icon 11\" src=\"https://www.experfy.com/assets/practice_area_icons/pa_icon_11-ef3d6fabc821c4a1554eef40f1a23d7cc6794a314e4cc934ef131c7589f05599.png\"/>\n",
       " <!-- %img{ src: asset_path(\"images/pa_icon_\" + pa.id.to_s + \".png\") } -->\n",
       " </span>\n",
       " HR Analytics\n",
       " </a>,\n",
       " <a aria-controls=\"Retail Analytics\" data-toggle=\"tab\" href=\"#retail_analytics\" role=\"tab\">\n",
       " <span class=\"marketplace-item-icon\">\n",
       " <img alt=\"Pa icon 12\" src=\"https://www.experfy.com/assets/practice_area_icons/pa_icon_12-03c9349715de983e1bcc73cacf8f45bd8e48e37bbb3b33acb279187f77a525ab.png\"/>\n",
       " <!-- %img{ src: asset_path(\"images/pa_icon_\" + pa.id.to_s + \".png\") } -->\n",
       " </span>\n",
       " Retail Analytics\n",
       " </a>,\n",
       " <a aria-controls=\"Healthcare Analytics\" data-toggle=\"tab\" href=\"#healthcare_analytics\" role=\"tab\">\n",
       " <span class=\"marketplace-item-icon\">\n",
       " <img alt=\"Pa icon 13\" src=\"https://www.experfy.com/assets/practice_area_icons/pa_icon_13-3f158f3fd5c1d2a5ce3e4df9e9a60cf20e45122a39847416fca132e646381ae5.png\"/>\n",
       " <!-- %img{ src: asset_path(\"images/pa_icon_\" + pa.id.to_s + \".png\") } -->\n",
       " </span>\n",
       " Healthcare Analytics\n",
       " </a>,\n",
       " <a aria-controls=\"Pharma &amp; Life Sciences\" data-toggle=\"tab\" href=\"#pharma___life_sciences\" role=\"tab\">\n",
       " <span class=\"marketplace-item-icon\">\n",
       " <img alt=\"Pa icon 14\" src=\"https://www.experfy.com/assets/practice_area_icons/pa_icon_14-afc59ad2b6b9fa6ef74e987134b7ae70102bdf02bd8d98d80a1cabaa08f0ab13.png\"/>\n",
       " <!-- %img{ src: asset_path(\"images/pa_icon_\" + pa.id.to_s + \".png\") } -->\n",
       " </span>\n",
       " Pharma &amp; Life Sciences\n",
       " </a>,\n",
       " <a aria-controls=\"Sports Analytics\" data-toggle=\"tab\" href=\"#sports_analytics\" role=\"tab\">\n",
       " <span class=\"marketplace-item-icon\">\n",
       " <img alt=\"Pa icon 15\" src=\"https://www.experfy.com/assets/practice_area_icons/pa_icon_15-50a324c17d081a7dcd063f14789d6ddeb6324b7163042b2c3b59192505cddb56.png\"/>\n",
       " <!-- %img{ src: asset_path(\"images/pa_icon_\" + pa.id.to_s + \".png\") } -->\n",
       " </span>\n",
       " Sports Analytics\n",
       " </a>,\n",
       " <a aria-controls=\"home\" data-index=\"0\" data-toggle=\"tab\" href=\"#big_data___technology\" role=\"tab\">\n",
       " <span class=\"technology-item-icon technology-item-icon-1\"></span>\n",
       " Big Data &amp; Technology\n",
       " </a>,\n",
       " <a aria-controls=\"home\" data-index=\"1\" data-toggle=\"tab\" href=\"#business_intelligence___data_warehousing\" role=\"tab\">\n",
       " <span class=\"technology-item-icon technology-item-icon-2\"></span>\n",
       " Business Intelligence &amp; Data Warehousing\n",
       " </a>,\n",
       " <a aria-controls=\"home\" data-index=\"2\" data-toggle=\"tab\" href=\"#data_integration___management\" role=\"tab\">\n",
       " <span class=\"technology-item-icon technology-item-icon-3\"></span>\n",
       " Data Integration &amp; Management\n",
       " </a>,\n",
       " <a aria-controls=\"home\" data-index=\"3\" data-toggle=\"tab\" href=\"#predictive_analytics___forecasting\" role=\"tab\">\n",
       " <span class=\"technology-item-icon technology-item-icon-4\"></span>\n",
       " Predictive Analytics &amp; Forecasting\n",
       " </a>,\n",
       " <a aria-controls=\"home\" data-index=\"4\" data-toggle=\"tab\" href=\"#data_driven_apps\" role=\"tab\">\n",
       " <span class=\"technology-item-icon technology-item-icon-6\"></span>\n",
       " Data Driven Apps\n",
       " </a>,\n",
       " <a aria-controls=\"home\" data-index=\"5\" data-toggle=\"tab\" href=\"#aws___cloud\" role=\"tab\">\n",
       " <span class=\"technology-item-icon technology-item-icon-5\"></span>\n",
       " AWS &amp; Cloud\n",
       " </a>,\n",
       " <a aria-controls=\"home\" data-index=\"6\" data-toggle=\"tab\" href=\"#mobility___analytics\" role=\"tab\">\n",
       " <span class=\"technology-item-icon technology-item-icon-7\"></span>\n",
       " Mobility &amp; Analytics\n",
       " </a>,\n",
       " <a aria-controls=\"individuals\" data-toggle=\"tab\" href=\"#individuals\" role=\"tab\">\n",
       " For Individuals\n",
       " </a>,\n",
       " <a aria-controls=\"companies\" data-toggle=\"tab\" href=\"#companies\" role=\"tab\">\n",
       " For Companies\n",
       " </a>,\n",
       " <a aria-controls=\"channel_marketplace\" data-target=\"#channel_marketplace\" data-toggle=\"tab\" href=\"#channel_marketplace\" role=\"tab\">\n",
       " Talent Markeplace As a Service\n",
       " </a>,\n",
       " <a aria-controls=\"channel_products\" data-target=\"#channel_products\" data-toggle=\"tab\" href=\"#channel_products\" role=\"tab\">\n",
       " Promote Your Products\n",
       " </a>,\n",
       " <a aria-controls=\"channel_training\" data-target=\"#channel_training\" data-toggle=\"tab\" href=\"#channel_training\" role=\"tab\">\n",
       " Training Platform as a Service\n",
       " </a>]"
      ]
     },
     "execution_count": 19,
     "metadata": {},
     "output_type": "execute_result"
    }
   ],
   "source": [
    "soup.find_all(role=\"tab\")"
   ]
  },
  {
   "cell_type": "code",
   "execution_count": 36,
   "metadata": {
    "collapsed": false
   },
   "outputs": [],
   "source": [
    "tabelki=soup.find_all(class_=\"tab-pane marketplace-items-pane\")"
   ]
  },
  {
   "cell_type": "code",
   "execution_count": 47,
   "metadata": {
    "collapsed": false
   },
   "outputs": [
    {
     "data": {
      "text/plain": [
       "bs4.element.Tag"
      ]
     },
     "execution_count": 47,
     "metadata": {},
     "output_type": "execute_result"
    }
   ],
   "source": [
    "type(tabelki[0])"
   ]
  },
  {
   "cell_type": "code",
   "execution_count": 102,
   "metadata": {
    "collapsed": false
   },
   "outputs": [
    {
     "data": {
      "text/plain": [
       "[<li>\n",
       " Customer Segmentation &amp; Profile\n",
       " </li>, <li>\n",
       " Personalized &amp; Customer Driven Marketing\n",
       " </li>, <li>\n",
       " Marketing Mix and ROI\n",
       " </li>, <li>\n",
       " Attribution Modeling &amp; Performance Attribution\n",
       " </li>, <li>\n",
       " Product Portfolio Management\n",
       " </li>, <li>\n",
       " Brand Equity\n",
       " </li>, <li>\n",
       " Market Sizing &amp; Opportunity Analysis\n",
       " </li>, <li>\n",
       " Market Entry Strategy\n",
       " </li>, <li>\n",
       " Competitor Analysis\n",
       " </li>, <li>\n",
       " Survey Analytics\n",
       " </li>, <li>\n",
       " Market Segmentation\n",
       " </li>, <li>\n",
       " Customer Loyalty\n",
       " </li>, <li>\n",
       " Brand Equity\n",
       " </li>, <li>\n",
       " Product Development\n",
       " </li>, <li>\n",
       " A/B &amp; Multivariate Testing\n",
       " </li>, <li>\n",
       " Conversion Rate Optimization\n",
       " </li>, <li>\n",
       " Attribution Modeling &amp; Performance Attribution\n",
       " </li>, <li>\n",
       " Website Audit\n",
       " </li>, <li>\n",
       " Mobile &amp; Website Tracking and eCommerce Analytics\n",
       " </li>, <li>\n",
       " Search Engine Optimization\n",
       " </li>, <li>\n",
       " Analytics Setup &amp; Implementation\n",
       " </li>, <li>\n",
       " Social Media Analytics\n",
       " </li>, <li>\n",
       " Content Analytics\n",
       " </li>, <li>\n",
       " Dynamic Pricing &amp; Optimization\n",
       " </li>, <li>\n",
       " Promotional Pricing\n",
       " </li>, <li>\n",
       " Profitability Analysis\n",
       " </li>, <li>\n",
       " Value Based Pricing\n",
       " </li>, <li>\n",
       " Supply Chain Analytics\n",
       " </li>, <li>\n",
       " Demand Forecasting\n",
       " </li>, <li>\n",
       " Inventory Management\n",
       " </li>, <li>\n",
       " Transport Logistics\n",
       " </li>, <li>\n",
       " Strategic Sourcing\n",
       " </li>, <li>\n",
       " Market Risk Management\n",
       " </li>, <li>\n",
       " Credit Risk Management\n",
       " </li>, <li>\n",
       " Retail Fraud Detection\n",
       " </li>, <li>\n",
       " Insurance Fraud Detection\n",
       " </li>, <li>\n",
       " Bank Fraud Detection\n",
       " </li>, <li>\n",
       " Health Insurance Fraud Detection\n",
       " </li>, <li>\n",
       " Smart Cities\n",
       " </li>, <li>\n",
       " Smart Manufacturing\n",
       " </li>, <li>\n",
       " Smart Healthcare\n",
       " </li>, <li>\n",
       " Oil and Gas - Power Generation and Distribution\n",
       " </li>, <li>\n",
       " Predictive Maintenance\n",
       " </li>, <li>\n",
       " Smart Aviation\n",
       " </li>, <li>\n",
       " Smart Transportation\n",
       " </li>, <li>\n",
       " Static &amp; Interactive Visualization\n",
       " </li>, <li>\n",
       " Dashboards &amp; BI Applications\n",
       " </li>, <li>\n",
       " Data Visualization &amp; Infographics\n",
       " </li>, <li>\n",
       " Geovisualization\n",
       " </li>, <li>\n",
       " UX/UI Design\n",
       " </li>, <li>\n",
       " Recruitment Analytics\n",
       " </li>, <li>\n",
       " Recruitment Marketing\n",
       " </li>, <li>\n",
       " Employee Retention &amp; Attrition\n",
       " </li>, <li>\n",
       " Employee Performance\n",
       " </li>, <li>\n",
       " Compensation and Incentive Analysis\n",
       " </li>, <li>\n",
       " Workforce Alignment\n",
       " </li>, <li>\n",
       " Personalized &amp; Customer Driven Marketing\n",
       " </li>, <li>\n",
       " Shelf Storage &amp; Merchandise Planning\n",
       " </li>, <li>\n",
       " Dynamic Pricing &amp; Optimization\n",
       " </li>, <li>\n",
       " Demand Forecasting\n",
       " </li>, <li>\n",
       " Fraud Detection &amp; Prevention\n",
       " </li>, <li>\n",
       " Localization, Clustering and Real Estate Asset Management\n",
       " </li>, <li>\n",
       " Product Catalog Classification and Optimization\n",
       " </li>, <li>\n",
       " Recommendation Engine &amp; Next Best Action\n",
       " </li>, <li>\n",
       " Population Health Management\n",
       " </li>, <li>\n",
       " Hospital Management and Administration\n",
       " </li>, <li>\n",
       " Health Insurance Analytics\n",
       " </li>, <li>\n",
       " Interoperability\n",
       " </li>, <li>\n",
       " Pharmaceutical R&amp;D\n",
       " </li>, <li>\n",
       " Pharmaceutical Marketing\n",
       " </li>, <li>\n",
       " Pharmaceutical Supply Chain\n",
       " </li>, <li>\n",
       " Managed Markets\n",
       " </li>, <li>\n",
       " Pharmaceutical Market Research &amp; Strategy\n",
       " </li>, <li>\n",
       " Marketing Mix Models for Pharma\n",
       " </li>, <li>\n",
       " Sabermetrics\n",
       " </li>, <li>\n",
       " Basketball Analytics\n",
       " </li>, <li>\n",
       " Football Analytics\n",
       " </li>, <li>\n",
       " Sports Marketing Analytics\n",
       " </li>, <li>\n",
       " Dynamic Ticket Pricing Optimization\n",
       " </li>, <li>\n",
       " Demand Forecasting\n",
       " </li>, <li>Data Warehouse Architecture and Implementation </li>, <li>ETL- Extract, Transform, and Load</li>, <li>Data Delivery (Enterprise Reporting, OLAP, Dashboards, Geographical Information Systems, Data Mining, Event Driven BI and Applications)</li>, <li>Structured Search</li>, <li>Data Architecture </li>, <li>Data Migration and Integration (ETL, Data Standardization, Data Cleansing and Reconciliation)</li>, <li>Data Quality Management</li>, <li>Meta Data Management</li>, <li>Master Data Management</li>, <li>Data Security</li>, <li>Data Governance</li>, <li>Analytics Maturity Assessment</li>, <li>Data Analysis and Modeling </li>, <li>Data Mining</li>, <li>Data Discovery and Pattern Analysis</li>, <li>Unstructured Data Analysis</li>, <li>Analytics Mart Design and Development</li>, <li>Operational Analytics Dashboards</li>, <li>Diagnostic, Predictive and Prescriptive Model Design (Computer Vision, Spatial Analysis, Time Series Analysis and more)</li>, <li>Desktop Applications </li>, <li>Web Programming </li>, <li>Gaming Applications</li>, <li>Information Extraction  and Web Scraping Systems</li>, <li>Scripts and Utilities</li>, <li>E-Commerce</li>, <li>Software Plug-ins</li>, <li>Cloud Strategy Development</li>, <li>Cloud Implementation Roadmap Development </li>, <li>Public Cloud Integration and Management</li>, <li>Private Cloud Design, Implementation &amp; Management</li>, <li>Integrating the Cloud through Managed Processes and Automation</li>, <li>Mobile Advertising </li>, <li>Mobile App Development</li>, <li>Mobile UX &amp; Interactive</li>, <li>Mobile Analytics</li>]"
      ]
     },
     "execution_count": 102,
     "metadata": {},
     "output_type": "execute_result"
    }
   ],
   "source": [
    "tt=[]\n",
    "for row in tabelki:\n",
    "#    tt+=row.find('h2')\n",
    "    tt+=row.find_all('li')\n",
    "tt"
   ]
  },
  {
   "cell_type": "code",
   "execution_count": 92,
   "metadata": {
    "collapsed": false
   },
   "outputs": [
    {
     "data": {
      "text/plain": [
       "[<h2>\n",
       " Mobility &amp; Analytics\n",
       " </h2>, <h2>\n",
       " Marketing Analytics\n",
       " </h2>, <h2>\n",
       " Market Research\n",
       " </h2>, <h2>\n",
       " Web Analytics\n",
       " </h2>, <h2>\n",
       " Social Media &amp; Text Analytics\n",
       " </h2>, <h2>\n",
       " Pricing &amp; Sales Analytics\n",
       " </h2>, <h2>\n",
       " Operations\n",
       " </h2>, <h2>\n",
       " Fraud &amp; Risk\n",
       " </h2>, <h2>\n",
       " Internet of Things\n",
       " </h2>, <h2>\n",
       " Visualizations\n",
       " </h2>, <h2>\n",
       " HR Analytics\n",
       " </h2>, <h2>\n",
       " Retail Analytics\n",
       " </h2>, <h2>\n",
       " Healthcare Analytics\n",
       " </h2>, <h2>\n",
       " Pharma &amp; Life Sciences\n",
       " </h2>, <h2>\n",
       " Sports Analytics\n",
       " </h2>, <h2>\n",
       " Business Intelligence &amp; Data Warehousing\n",
       " </h2>, <h2>\n",
       " Data Integration &amp; Management\n",
       " </h2>, <h2>\n",
       " Predictive Analytics &amp; Forecasting\n",
       " </h2>, <h2>\n",
       " Data Driven Apps\n",
       " </h2>, <h2>\n",
       " AWS &amp; Cloud\n",
       " </h2>, <h2>\n",
       " Mobility &amp; Analytics\n",
       " </h2>, <h2>\n",
       " Marketing Analytics\n",
       " </h2>, <h2>\n",
       " Market Research\n",
       " </h2>, <h2>\n",
       " Web Analytics\n",
       " </h2>, <h2>\n",
       " Social Media &amp; Text Analytics\n",
       " </h2>, <h2>\n",
       " Pricing &amp; Sales Analytics\n",
       " </h2>, <h2>\n",
       " Operations\n",
       " </h2>, <h2>\n",
       " Fraud &amp; Risk\n",
       " </h2>, <h2>\n",
       " Internet of Things\n",
       " </h2>, <h2>\n",
       " Visualizations\n",
       " </h2>, <h2>\n",
       " HR Analytics\n",
       " </h2>, <h2>\n",
       " Retail Analytics\n",
       " </h2>, <h2>\n",
       " Healthcare Analytics\n",
       " </h2>, <h2>\n",
       " Pharma &amp; Life Sciences\n",
       " </h2>, <h2>\n",
       " Sports Analytics\n",
       " </h2>, <h2>\n",
       " Business Intelligence &amp; Data Warehousing\n",
       " </h2>, <h2>\n",
       " Data Integration &amp; Management\n",
       " </h2>, <h2>\n",
       " Predictive Analytics &amp; Forecasting\n",
       " </h2>, <h2>\n",
       " Data Driven Apps\n",
       " </h2>, <h2>\n",
       " AWS &amp; Cloud\n",
       " </h2>, <h2>\n",
       " Mobility &amp; Analytics\n",
       " </h2>, <h2>\n",
       " Marketing Analytics\n",
       " </h2>, <h2>\n",
       " Market Research\n",
       " </h2>, <h2>\n",
       " Web Analytics\n",
       " </h2>, <h2>\n",
       " Social Media &amp; Text Analytics\n",
       " </h2>, <h2>\n",
       " Pricing &amp; Sales Analytics\n",
       " </h2>, <h2>\n",
       " Operations\n",
       " </h2>, <h2>\n",
       " Fraud &amp; Risk\n",
       " </h2>, <h2>\n",
       " Internet of Things\n",
       " </h2>, <h2>\n",
       " Visualizations\n",
       " </h2>, <h2>\n",
       " HR Analytics\n",
       " </h2>, <h2>\n",
       " Retail Analytics\n",
       " </h2>, <h2>\n",
       " Healthcare Analytics\n",
       " </h2>, <h2>\n",
       " Pharma &amp; Life Sciences\n",
       " </h2>, <h2>\n",
       " Sports Analytics\n",
       " </h2>, <h2>\n",
       " Business Intelligence &amp; Data Warehousing\n",
       " </h2>, <h2>\n",
       " Data Integration &amp; Management\n",
       " </h2>, <h2>\n",
       " Predictive Analytics &amp; Forecasting\n",
       " </h2>, <h2>\n",
       " Data Driven Apps\n",
       " </h2>, <h2>\n",
       " AWS &amp; Cloud\n",
       " </h2>, <h2>\n",
       " Mobility &amp; Analytics\n",
       " </h2>, '\\nMarketing Analytics\\n', '\\nMarket Research\\n', '\\nWeb Analytics\\n', '\\nSocial Media & Text Analytics\\n', '\\nPricing & Sales Analytics\\n', '\\nOperations\\n', '\\nFraud & Risk\\n', '\\nInternet of Things\\n', '\\nVisualizations\\n', '\\nHR Analytics\\n', '\\nRetail Analytics\\n', '\\nHealthcare Analytics\\n', '\\nPharma & Life Sciences\\n', '\\nSports Analytics\\n', '\\nBusiness Intelligence & Data Warehousing\\n', '\\nData Integration & Management\\n', '\\nPredictive Analytics & Forecasting\\n', '\\nData Driven Apps\\n', '\\nAWS & Cloud\\n', '\\nMobility & Analytics\\n', '\\nMarketing Analytics\\n', '\\nMarket Research\\n', '\\nWeb Analytics\\n', '\\nSocial Media & Text Analytics\\n', '\\nPricing & Sales Analytics\\n', '\\nOperations\\n', '\\nFraud & Risk\\n', '\\nInternet of Things\\n', '\\nVisualizations\\n', '\\nHR Analytics\\n', '\\nRetail Analytics\\n', '\\nHealthcare Analytics\\n', '\\nPharma & Life Sciences\\n', '\\nSports Analytics\\n', '\\nBusiness Intelligence & Data Warehousing\\n', '\\nData Integration & Management\\n', '\\nPredictive Analytics & Forecasting\\n', '\\nData Driven Apps\\n', '\\nAWS & Cloud\\n', '\\nMobility & Analytics\\n', '\\nMarketing Analytics\\n', '\\nMarket Research\\n', '\\nWeb Analytics\\n', '\\nSocial Media & Text Analytics\\n', '\\nPricing & Sales Analytics\\n', '\\nOperations\\n', '\\nFraud & Risk\\n', '\\nInternet of Things\\n', '\\nVisualizations\\n', '\\nHR Analytics\\n', '\\nRetail Analytics\\n', '\\nHealthcare Analytics\\n', '\\nPharma & Life Sciences\\n', '\\nSports Analytics\\n', '\\nBusiness Intelligence & Data Warehousing\\n', '\\nData Integration & Management\\n', '\\nPredictive Analytics & Forecasting\\n', '\\nData Driven Apps\\n', '\\nAWS & Cloud\\n', '\\nMobility & Analytics\\n', '\\nMarketing Analytics\\n', '\\nMarket Research\\n', '\\nWeb Analytics\\n', '\\nSocial Media & Text Analytics\\n', '\\nPricing & Sales Analytics\\n', '\\nOperations\\n', '\\nFraud & Risk\\n', '\\nInternet of Things\\n', '\\nVisualizations\\n', '\\nHR Analytics\\n', '\\nRetail Analytics\\n', '\\nHealthcare Analytics\\n', '\\nPharma & Life Sciences\\n', '\\nSports Analytics\\n', '\\nBusiness Intelligence & Data Warehousing\\n', '\\nData Integration & Management\\n', '\\nPredictive Analytics & Forecasting\\n', '\\nData Driven Apps\\n', '\\nAWS & Cloud\\n', '\\nMobility & Analytics\\n']"
      ]
     },
     "execution_count": 92,
     "metadata": {},
     "output_type": "execute_result"
    }
   ],
   "source": [
    "tt"
   ]
  },
  {
   "cell_type": "code",
   "execution_count": 59,
   "metadata": {
    "collapsed": false
   },
   "outputs": [
    {
     "ename": "AttributeError",
     "evalue": "'ResultSet' object has no attribute 'children'",
     "output_type": "error",
     "traceback": [
      "\u001b[1;31m---------------------------------------------------------------------------\u001b[0m",
      "\u001b[1;31mAttributeError\u001b[0m                            Traceback (most recent call last)",
      "\u001b[1;32m<ipython-input-59-dee1f4ac0593>\u001b[0m in \u001b[0;36m<module>\u001b[1;34m()\u001b[0m\n\u001b[1;32m----> 1\u001b[1;33m \u001b[1;32mfor\u001b[0m \u001b[0mchild\u001b[0m \u001b[1;32min\u001b[0m \u001b[0mtt\u001b[0m\u001b[1;33m.\u001b[0m\u001b[0mchildren\u001b[0m\u001b[1;33m:\u001b[0m\u001b[1;33m\u001b[0m\u001b[0m\n\u001b[0m\u001b[0;32m      2\u001b[0m     \u001b[0mprint\u001b[0m\u001b[1;33m(\u001b[0m\u001b[0mchild\u001b[0m\u001b[1;33m)\u001b[0m\u001b[1;33m\u001b[0m\u001b[0m\n",
      "\u001b[1;31mAttributeError\u001b[0m: 'ResultSet' object has no attribute 'children'"
     ]
    }
   ],
   "source": []
  },
  {
   "cell_type": "code",
   "execution_count": null,
   "metadata": {
    "collapsed": true
   },
   "outputs": [],
   "source": []
  }
 ],
 "metadata": {
  "kernelspec": {
   "display_name": "Python 3",
   "language": "python",
   "name": "python3"
  },
  "language_info": {
   "codemirror_mode": {
    "name": "ipython",
    "version": 3
   },
   "file_extension": ".py",
   "mimetype": "text/x-python",
   "name": "python",
   "nbconvert_exporter": "python",
   "pygments_lexer": "ipython3",
   "version": "3.6.0"
  }
 },
 "nbformat": 4,
 "nbformat_minor": 2
}
